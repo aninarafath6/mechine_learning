{
  "nbformat": 4,
  "nbformat_minor": 0,
  "metadata": {
    "colab": {
      "provenance": [],
      "authorship_tag": "ABX9TyMPUCc4js6tJd52GE2g8JhL",
      "include_colab_link": true
    },
    "kernelspec": {
      "name": "python3",
      "display_name": "Python 3"
    },
    "language_info": {
      "name": "python"
    }
  },
  "cells": [
    {
      "cell_type": "markdown",
      "metadata": {
        "id": "view-in-github",
        "colab_type": "text"
      },
      "source": [
        "<a href=\"https://colab.research.google.com/github/aninarafath6/mechine_learning/blob/main/numpy.ipynb\" target=\"_parent\"><img src=\"https://colab.research.google.com/assets/colab-badge.svg\" alt=\"Open In Colab\"/></a>"
      ]
    },
    {
      "cell_type": "markdown",
      "source": [
        "# **Start With NUMPY ( Numerical Python)**"
      ],
      "metadata": {
        "id": "PAqOHhHXDRmt"
      }
    },
    {
      "cell_type": "code",
      "execution_count": null,
      "metadata": {
        "colab": {
          "base_uri": "https://localhost:8080/"
        },
        "id": "CZa9Bcd4BXbz",
        "outputId": "1045a08e-bfec-4913-8e53-dab91961e2db"
      },
      "outputs": [
        {
          "output_type": "execute_result",
          "data": {
            "text/plain": [
              "['Apple', 'Orange', 'grapes']"
            ]
          },
          "metadata": {},
          "execution_count": 3
        }
      ],
      "source": [
        "import numpy as np\n",
        "\n",
        "#inbuilt list in python\n",
        "sample_list = [\"Apple\",\"Orange\",\"grapes\"]\n",
        "sample_list"
      ]
    },
    {
      "cell_type": "markdown",
      "source": [
        "# Properties of Numpy Array\n",
        "\n",
        "\n",
        "1.   Size of array (arr.size) \n",
        "2.   Dimension of array (arr.ndim)\n",
        "3.   Shape of array (arr.shape)\n",
        "\n"
      ],
      "metadata": {
        "id": "BKEob-qJC5jK"
      }
    },
    {
      "cell_type": "code",
      "source": [
        "arr = np.array(sample_list,dtype=\"str\")\n",
        "\n",
        "print(\"array: \",arr)\n",
        "print(\"size: \",arr.size)\n",
        "print(\"Dimension: \",arr.ndim)\n",
        "print(\"Shape: \",arr.shape)\n",
        "print(\"Type: \",arr.dtype)\n",
        "print(\"Item Size: \",arr.itemsize)\n",
        "\n",
        "\n"
      ],
      "metadata": {
        "colab": {
          "base_uri": "https://localhost:8080/"
        },
        "id": "G3lfSD6FCRmz",
        "outputId": "3f1009c7-bb52-4eaf-cd13-a9d16d225c7b"
      },
      "execution_count": null,
      "outputs": [
        {
          "output_type": "stream",
          "name": "stdout",
          "text": [
            "array:  ['Apple' 'Orange' 'grapes']\n",
            "size:  3\n",
            "Dimension:  1\n",
            "Shape:  (3,)\n",
            "Type:  <U6\n",
            "Item Size:  24\n"
          ]
        }
      ]
    },
    {
      "cell_type": "code",
      "source": [
        "arr2 = np.array([[1,2],[3,4]],dtype=\"int64\")\n",
        "\n",
        "print(arr2)\n",
        "print(\"size: \",arr2.size)\n",
        "print(\"Dimension: \",arr2.ndim)\n",
        "print(\"Shape: \",arr2.shape)\n",
        "print(\"Type: \",arr2.dtype)\n",
        "print(\"Item Size : \",arr2.itemsize)\n"
      ],
      "metadata": {
        "colab": {
          "base_uri": "https://localhost:8080/"
        },
        "id": "u2X77PNuD9Sj",
        "outputId": "cd87ac93-fca2-44b8-9ac4-612999fbf7df"
      },
      "execution_count": null,
      "outputs": [
        {
          "output_type": "stream",
          "name": "stdout",
          "text": [
            "[[1 2]\n",
            " [3 4]]\n",
            "size:  4\n",
            "Dimension:  2\n",
            "Shape:  (2, 2)\n",
            "Type:  int64\n",
            "Item Size :  8\n"
          ]
        }
      ]
    },
    {
      "cell_type": "markdown",
      "source": [
        "# **Complex Data Type's Array**\n",
        "complex numbers is basic data type in python \n",
        "it is in the form **a+ib**."
      ],
      "metadata": {
        "id": "sAdVaPV2G_tl"
      }
    },
    {
      "cell_type": "code",
      "source": [
        "complex_list = [1,2,3,4,5]\n",
        "arr3 = np.array(complex_list,dtype=\"complex\")\n",
        "print(\"Array: \",arr3)\n",
        "print(\"size: \",arr3.size)\n",
        "print(\"Dimension: \",arr.ndim)\n",
        "print(\"Shape: \",arr3.shape)\n",
        "print(\"Type: \",arr3.dtype)\n",
        "print(\"Item Size : \",arr3.itemsize)\n",
        "print(\"Imaginary Parts: \",arr3.imag)\n",
        "print(\"Real Parts: \",arr3.real)\n"
      ],
      "metadata": {
        "colab": {
          "base_uri": "https://localhost:8080/"
        },
        "id": "rWJDsDK4GX0_",
        "outputId": "3f552ab0-426c-4895-b6e2-f555b0f9b28e"
      },
      "execution_count": null,
      "outputs": [
        {
          "output_type": "stream",
          "name": "stdout",
          "text": [
            "Array:  [1.+0.j 2.+0.j 3.+0.j 4.+0.j 5.+0.j]\n",
            "size:  5\n",
            "Dimension:  1\n",
            "Shape:  (5,)\n",
            "Type:  complex128\n",
            "Item Size :  16\n",
            "Imaginary Parts:  [0. 0. 0. 0. 0.]\n",
            "Real Parts:  [1. 2. 3. 4. 5.]\n"
          ]
        }
      ]
    },
    {
      "cell_type": "markdown",
      "source": [
        "# ***Placeholder Arrays***\n",
        "\n",
        "we can easly initialize array with zero by using zeros method. and we need to provide the shape of the array on there.\n",
        "\n",
        "At the sametime we can use numpy.ones() for creating arrays"
      ],
      "metadata": {
        "id": "Xbk5SPjsHjKX"
      }
    },
    {
      "cell_type": "code",
      "source": [
        "arr6=np.zeros((2),dtype=\"int64\",)\n",
        "arr7=np.zeros((3,3),dtype=\"int64\",)\n",
        "arr8=np.ones((2,2),dtype=\"int64\",)\n",
        "\n",
        "\n",
        "print(\"Array 6 :\",arr6)\n",
        "print()\n",
        "print(\"Array 7: \",arr7)\n",
        "print()\n",
        "print(\"Array 8: \",arr8)\n",
        "\n",
        "\n"
      ],
      "metadata": {
        "colab": {
          "base_uri": "https://localhost:8080/"
        },
        "id": "Ne3ErOQBHnkW",
        "outputId": "9374f65f-80b3-4e0d-82e5-2381b9b7b642"
      },
      "execution_count": null,
      "outputs": [
        {
          "output_type": "stream",
          "name": "stdout",
          "text": [
            "Array 6 : [0 0]\n",
            "\n",
            "Array 7:  [[0 0 0]\n",
            " [0 0 0]\n",
            " [0 0 0]]\n",
            "\n",
            "Array 8:  [[1 1]\n",
            " [1 1]]\n"
          ]
        }
      ]
    },
    {
      "cell_type": "markdown",
      "source": [
        "Random array"
      ],
      "metadata": {
        "id": "n0zH7lCEJQkG"
      }
    },
    {
      "cell_type": "code",
      "source": [
        "arry9=np.empty((3,3),)\n",
        "print(\"Array 9: \",arry9)\n",
        "np.random.randint(1,9,(10,10))"
      ],
      "metadata": {
        "colab": {
          "base_uri": "https://localhost:8080/"
        },
        "id": "gxUjxqioJAGt",
        "outputId": "9642dbb0-c70d-41b0-bea6-ac822816f3d4"
      },
      "execution_count": null,
      "outputs": [
        {
          "output_type": "stream",
          "name": "stdout",
          "text": [
            "Array 9:  [[2.92427574e-316 1.77863633e-322 0.00000000e+000]\n",
            " [0.00000000e+000 8.48798316e-313 2.25285501e+184]\n",
            " [7.61485367e+169 7.11820985e-091 7.25487042e+169]]\n"
          ]
        },
        {
          "output_type": "execute_result",
          "data": {
            "text/plain": [
              "array([[7, 2, 2, 2, 5, 3, 5, 8, 1, 1],\n",
              "       [5, 5, 1, 6, 2, 6, 6, 2, 6, 5],\n",
              "       [5, 3, 8, 3, 2, 5, 2, 3, 2, 5],\n",
              "       [4, 7, 3, 1, 3, 3, 3, 1, 8, 8],\n",
              "       [2, 3, 1, 4, 4, 6, 2, 4, 5, 1],\n",
              "       [8, 4, 7, 1, 3, 4, 6, 8, 8, 8],\n",
              "       [6, 2, 8, 8, 2, 5, 7, 7, 1, 1],\n",
              "       [7, 7, 8, 2, 1, 6, 6, 3, 4, 4],\n",
              "       [2, 3, 2, 5, 2, 4, 1, 1, 1, 4],\n",
              "       [6, 5, 7, 5, 7, 2, 1, 5, 8, 7]])"
            ]
          },
          "metadata": {},
          "execution_count": 8
        }
      ]
    },
    {
      "cell_type": "markdown",
      "source": [
        "Fill with value \n"
      ],
      "metadata": {
        "id": "X-NzT5aOJdnx"
      }
    },
    {
      "cell_type": "code",
      "source": [
        "np.full((10,10),\"A\")\n",
        "\n",
        "#dimension of array will take of the dimension of array9\n",
        "np.full_like(arry9,20)"
      ],
      "metadata": {
        "colab": {
          "base_uri": "https://localhost:8080/"
        },
        "id": "GhI7ImAnJfzn",
        "outputId": "2c278be7-fae2-4f20-fc41-fa3f111328a0"
      },
      "execution_count": null,
      "outputs": [
        {
          "output_type": "execute_result",
          "data": {
            "text/plain": [
              "array([[20., 20., 20.],\n",
              "       [20., 20., 20.],\n",
              "       [20., 20., 20.]])"
            ]
          },
          "metadata": {},
          "execution_count": 9
        }
      ]
    },
    {
      "cell_type": "code",
      "source": [
        "#Digonal Elements are ones\n",
        "np.identity(4,dtype=\"int64\")"
      ],
      "metadata": {
        "colab": {
          "base_uri": "https://localhost:8080/"
        },
        "id": "BtvH0byqKyHU",
        "outputId": "62a2dec3-6091-4e62-c1e7-19bc5d565116"
      },
      "execution_count": null,
      "outputs": [
        {
          "output_type": "execute_result",
          "data": {
            "text/plain": [
              "array([[1, 0, 0, 0],\n",
              "       [0, 1, 0, 0],\n",
              "       [0, 0, 1, 0],\n",
              "       [0, 0, 0, 1]])"
            ]
          },
          "metadata": {},
          "execution_count": 10
        }
      ]
    },
    {
      "cell_type": "code",
      "source": [
        "np.arange(6)"
      ],
      "metadata": {
        "colab": {
          "base_uri": "https://localhost:8080/"
        },
        "id": "VYeDy9OnLSGf",
        "outputId": "2a0fa2b8-fbd6-4afc-9688-1c91656cee6e"
      },
      "execution_count": null,
      "outputs": [
        {
          "output_type": "execute_result",
          "data": {
            "text/plain": [
              "array([0, 1, 2, 3, 4, 5])"
            ]
          },
          "metadata": {},
          "execution_count": 11
        }
      ]
    },
    {
      "cell_type": "code",
      "source": [
        "np.arange(2,10)"
      ],
      "metadata": {
        "colab": {
          "base_uri": "https://localhost:8080/"
        },
        "id": "3pV9lPmYLZAs",
        "outputId": "4d324273-78e5-42f9-cd06-a64deffa890a"
      },
      "execution_count": null,
      "outputs": [
        {
          "output_type": "execute_result",
          "data": {
            "text/plain": [
              "array([2, 3, 4, 5, 6, 7, 8, 9])"
            ]
          },
          "metadata": {},
          "execution_count": 12
        }
      ]
    },
    {
      "cell_type": "code",
      "source": [
        "np.arange(1.1,11,2)"
      ],
      "metadata": {
        "colab": {
          "base_uri": "https://localhost:8080/"
        },
        "id": "s0bjam7YLc5o",
        "outputId": "35cd28bf-dd92-4d71-8613-80982843db9c"
      },
      "execution_count": null,
      "outputs": [
        {
          "output_type": "execute_result",
          "data": {
            "text/plain": [
              "array([1.1, 3.1, 5.1, 7.1, 9.1])"
            ]
          },
          "metadata": {},
          "execution_count": 13
        }
      ]
    },
    {
      "cell_type": "code",
      "source": [
        "from google.colab import drive\n",
        "drive.mount('/content/drive')"
      ],
      "metadata": {
        "id": "o0UsxNKgWln8"
      },
      "execution_count": null,
      "outputs": []
    },
    {
      "cell_type": "code",
      "source": [],
      "metadata": {
        "id": "acP0UoMLXXia"
      },
      "execution_count": null,
      "outputs": []
    },
    {
      "cell_type": "markdown",
      "source": [
        "Creating array by using external file"
      ],
      "metadata": {
        "id": "cgCzn5TSXbPq"
      }
    },
    {
      "cell_type": "code",
      "source": [
        "marks = np.loadtxt(\"sample 2.txt\",skiprows=1,dtype=\"int64\")\n",
        "print(\"Shape: \", marks.shape)\n",
        "print()\n",
        "marks\n"
      ],
      "metadata": {
        "id": "nRjm8CFiWdH-",
        "colab": {
          "base_uri": "https://localhost:8080/"
        },
        "outputId": "efb2dafe-db5f-434f-cbe4-cb7a8d326b9a"
      },
      "execution_count": 24,
      "outputs": [
        {
          "output_type": "stream",
          "name": "stdout",
          "text": [
            "Shape:  (3, 3)\n",
            "\n"
          ]
        },
        {
          "output_type": "execute_result",
          "data": {
            "text/plain": [
              "array([[ 1, 28, 30],\n",
              "       [ 2, 40, 50],\n",
              "       [ 3, 60, 70]])"
            ]
          },
          "metadata": {},
          "execution_count": 24
        }
      ]
    },
    {
      "cell_type": "markdown",
      "source": [
        "# For seperation\n",
        "Taking the transforse of matrix for seperation"
      ],
      "metadata": {
        "id": "fUEYv3YRX7EU"
      }
    },
    {
      "cell_type": "code",
      "source": [
        "data1,data2,data3 = np.loadtxt(\"sample 2.txt\",skiprows=1,unpack=True,dtype=\"int64\")\n",
        "print(\"1st: \",data1)\n",
        "print(\"2nd: \",data2)\n",
        "print(\"3rd: \",data3)"
      ],
      "metadata": {
        "colab": {
          "base_uri": "https://localhost:8080/"
        },
        "id": "nn0983GfX6Od",
        "outputId": "8ee07459-74d2-4afd-9def-58894c629e5f"
      },
      "execution_count": 28,
      "outputs": [
        {
          "output_type": "stream",
          "name": "stdout",
          "text": [
            "1st:  [1 2 3]\n",
            "2nd:  [28 40 60]\n",
            "3rd:  [30 50 70]\n"
          ]
        }
      ]
    },
    {
      "cell_type": "code",
      "source": [
        "# for storing data on npy \n",
        "np.save(\"savedData\",data1)\n",
        "np.load(\"savedData.npy\")"
      ],
      "metadata": {
        "colab": {
          "base_uri": "https://localhost:8080/"
        },
        "id": "6Y3oFQ0tY_Jo",
        "outputId": "a4dd108c-e686-4038-dfcd-df4c1e72deda"
      },
      "execution_count": 29,
      "outputs": [
        {
          "output_type": "execute_result",
          "data": {
            "text/plain": [
              "array([1, 2, 3])"
            ]
          },
          "metadata": {},
          "execution_count": 29
        }
      ]
    },
    {
      "cell_type": "markdown",
      "source": [
        "# Create array from a function"
      ],
      "metadata": {
        "id": "DMcTbDaWZSpz"
      }
    },
    {
      "cell_type": "code",
      "source": [
        "#from a function \n",
        "np.fromfunction(lambda i,j:i*j,dtype=\"int64\",shape=(4,8))"
      ],
      "metadata": {
        "colab": {
          "base_uri": "https://localhost:8080/"
        },
        "id": "zxzaxzelZV0J",
        "outputId": "fad5cc2a-dea2-47da-d99b-b6d6219afa9c"
      },
      "execution_count": 38,
      "outputs": [
        {
          "output_type": "execute_result",
          "data": {
            "text/plain": [
              "array([[ 0,  0,  0,  0,  0,  0,  0,  0],\n",
              "       [ 0,  1,  2,  3,  4,  5,  6,  7],\n",
              "       [ 0,  2,  4,  6,  8, 10, 12, 14],\n",
              "       [ 0,  3,  6,  9, 12, 15, 18, 21]])"
            ]
          },
          "metadata": {},
          "execution_count": 38
        }
      ]
    }
  ]
}