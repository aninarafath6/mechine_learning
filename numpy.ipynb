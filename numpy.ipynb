{
  "nbformat": 4,
  "nbformat_minor": 0,
  "metadata": {
    "colab": {
      "provenance": [],
      "authorship_tag": "ABX9TyMvuJo+PKayweP1nJYTRNy/",
      "include_colab_link": true
    },
    "kernelspec": {
      "name": "python3",
      "display_name": "Python 3"
    },
    "language_info": {
      "name": "python"
    }
  },
  "cells": [
    {
      "cell_type": "markdown",
      "metadata": {
        "id": "view-in-github",
        "colab_type": "text"
      },
      "source": [
        "<a href=\"https://colab.research.google.com/github/aninarafath6/mechine_learning/blob/main/numpy.ipynb\" target=\"_parent\"><img src=\"https://colab.research.google.com/assets/colab-badge.svg\" alt=\"Open In Colab\"/></a>"
      ]
    },
    {
      "cell_type": "markdown",
      "source": [
        "# **Start With NUMPY ( Numerical Python)**"
      ],
      "metadata": {
        "id": "PAqOHhHXDRmt"
      }
    },
    {
      "cell_type": "code",
      "execution_count": 4,
      "metadata": {
        "colab": {
          "base_uri": "https://localhost:8080/"
        },
        "id": "CZa9Bcd4BXbz",
        "outputId": "c1de1c9a-ba51-4427-ac96-92f13024add0"
      },
      "outputs": [
        {
          "output_type": "execute_result",
          "data": {
            "text/plain": [
              "['Apple', 'Orange', 'grapes']"
            ]
          },
          "metadata": {},
          "execution_count": 4
        }
      ],
      "source": [
        "import numpy as np\n",
        "\n",
        "#inbuilt list in python\n",
        "sample_list = [\"Apple\",\"Orange\",\"grapes\"]\n",
        "sample_list"
      ]
    },
    {
      "cell_type": "markdown",
      "source": [
        "# Properties of Numpy Array\n",
        "\n",
        "\n",
        "1.   Size of array (arr.size) \n",
        "2.   Dimension of array (arr.ndim)\n",
        "3.   Shape of array (arr.shape)\n",
        "\n"
      ],
      "metadata": {
        "id": "BKEob-qJC5jK"
      }
    },
    {
      "cell_type": "code",
      "source": [
        "arr = np.array(sample_list,dtype=\"str\")\n",
        "\n",
        "print(\"array: \",arr)\n",
        "print(\"size: \",arr.size)\n",
        "print(\"Dimension: \",arr.ndim)\n",
        "print(\"Shape: \",arr.shape)\n",
        "print(\"Type: \",arr.dtype)\n",
        "print(\"Item Size: \",arr.itemsize)\n",
        "\n",
        "\n"
      ],
      "metadata": {
        "colab": {
          "base_uri": "https://localhost:8080/"
        },
        "id": "G3lfSD6FCRmz",
        "outputId": "eaa2f3d8-389d-48cf-8c86-5da1626f15da"
      },
      "execution_count": 23,
      "outputs": [
        {
          "output_type": "stream",
          "name": "stdout",
          "text": [
            "array:  ['Apple' 'Orange' 'grapes']\n",
            "size:  3\n",
            "Dimension:  1\n",
            "Shape:  (3,)\n",
            "Type:  <U6\n",
            "Item Size:  24\n"
          ]
        }
      ]
    },
    {
      "cell_type": "code",
      "source": [
        "arr2 = np.array([[1,2],[3,4]],dtype=\"int64\")\n",
        "\n",
        "print(arr2)\n",
        "print(\"size: \",arr2.size)\n",
        "print(\"Dimension: \",arr2.ndim)\n",
        "print(\"Shape: \",arr2.shape)\n",
        "print(\"Type: \",arr2.dtype)\n",
        "print(\"Item Size : \",arr2.itemsize)\n"
      ],
      "metadata": {
        "colab": {
          "base_uri": "https://localhost:8080/"
        },
        "id": "u2X77PNuD9Sj",
        "outputId": "8c330295-d3da-4a16-eb81-31a9ab6f3687"
      },
      "execution_count": 22,
      "outputs": [
        {
          "output_type": "stream",
          "name": "stdout",
          "text": [
            "[[1 2]\n",
            " [3 4]]\n",
            "size:  4\n",
            "Dimension:  2\n",
            "Shape:  (2, 2)\n",
            "Type:  int64\n",
            "Item Size :  8\n"
          ]
        }
      ]
    }
  ]
}