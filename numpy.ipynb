{
  "nbformat": 4,
  "nbformat_minor": 0,
  "metadata": {
    "colab": {
      "provenance": [],
      "authorship_tag": "ABX9TyOso99laaVbUBQ4kjcXAvD7",
      "include_colab_link": true
    },
    "kernelspec": {
      "name": "python3",
      "display_name": "Python 3"
    },
    "language_info": {
      "name": "python"
    }
  },
  "cells": [
    {
      "cell_type": "markdown",
      "metadata": {
        "id": "view-in-github",
        "colab_type": "text"
      },
      "source": [
        "<a href=\"https://colab.research.google.com/github/aninarafath6/mechine_learning/blob/main/numpy.ipynb\" target=\"_parent\"><img src=\"https://colab.research.google.com/assets/colab-badge.svg\" alt=\"Open In Colab\"/></a>"
      ]
    },
    {
      "cell_type": "markdown",
      "source": [
        "# **Start With NUMPY ( Numerical Python)**"
      ],
      "metadata": {
        "id": "PAqOHhHXDRmt"
      }
    },
    {
      "cell_type": "code",
      "execution_count": 27,
      "metadata": {
        "colab": {
          "base_uri": "https://localhost:8080/"
        },
        "id": "CZa9Bcd4BXbz",
        "outputId": "a47248dc-1e41-42ca-b2c6-7739e3f40984"
      },
      "outputs": [
        {
          "output_type": "execute_result",
          "data": {
            "text/plain": [
              "['Apple', 'Orange', 'grapes']"
            ]
          },
          "metadata": {},
          "execution_count": 27
        }
      ],
      "source": [
        "import numpy as np\n",
        "\n",
        "#inbuilt list in python\n",
        "sample_list = [\"Apple\",\"Orange\",\"grapes\"]\n",
        "sample_list"
      ]
    },
    {
      "cell_type": "markdown",
      "source": [
        "# Properties of Numpy Array\n",
        "\n",
        "\n",
        "1.   Size of array (arr.size) \n",
        "2.   Dimension of array (arr.ndim)\n",
        "3.   Shape of array (arr.shape)\n",
        "\n"
      ],
      "metadata": {
        "id": "BKEob-qJC5jK"
      }
    },
    {
      "cell_type": "code",
      "source": [
        "arr = np.array(sample_list,dtype=\"str\")\n",
        "\n",
        "print(\"array: \",arr)\n",
        "print(\"size: \",arr.size)\n",
        "print(\"Dimension: \",arr.ndim)\n",
        "print(\"Shape: \",arr.shape)\n",
        "print(\"Type: \",arr.dtype)\n",
        "print(\"Item Size: \",arr.itemsize)\n",
        "\n",
        "\n"
      ],
      "metadata": {
        "colab": {
          "base_uri": "https://localhost:8080/"
        },
        "id": "G3lfSD6FCRmz",
        "outputId": "ffdf5ece-f161-45ac-b581-47b0986f0b9a"
      },
      "execution_count": 28,
      "outputs": [
        {
          "output_type": "stream",
          "name": "stdout",
          "text": [
            "array:  ['Apple' 'Orange' 'grapes']\n",
            "size:  3\n",
            "Dimension:  1\n",
            "Shape:  (3,)\n",
            "Type:  <U6\n",
            "Item Size:  24\n"
          ]
        }
      ]
    },
    {
      "cell_type": "code",
      "source": [
        "arr2 = np.array([[1,2],[3,4]],dtype=\"int64\")\n",
        "\n",
        "print(arr2)\n",
        "print(\"size: \",arr2.size)\n",
        "print(\"Dimension: \",arr2.ndim)\n",
        "print(\"Shape: \",arr2.shape)\n",
        "print(\"Type: \",arr2.dtype)\n",
        "print(\"Item Size : \",arr2.itemsize)\n"
      ],
      "metadata": {
        "colab": {
          "base_uri": "https://localhost:8080/"
        },
        "id": "u2X77PNuD9Sj",
        "outputId": "f5750679-6ddd-4e8c-a78e-00a58789f1c8"
      },
      "execution_count": 29,
      "outputs": [
        {
          "output_type": "stream",
          "name": "stdout",
          "text": [
            "[[1 2]\n",
            " [3 4]]\n",
            "size:  4\n",
            "Dimension:  2\n",
            "Shape:  (2, 2)\n",
            "Type:  int64\n",
            "Item Size :  8\n"
          ]
        }
      ]
    },
    {
      "cell_type": "markdown",
      "source": [
        "# **Complex Data Type's Array**\n",
        "complex numbers is basic data type in python \n",
        "it is in the form **a+ib**."
      ],
      "metadata": {
        "id": "sAdVaPV2G_tl"
      }
    },
    {
      "cell_type": "code",
      "source": [
        "complex_list = [1,2,3,4,5]\n",
        "arr3 = np.array(complex_list,dtype=\"complex\")\n",
        "print(\"Array: \",arr3)\n",
        "print(\"size: \",arr3.size)\n",
        "print(\"Dimension: \",arr.ndim)\n",
        "print(\"Shape: \",arr3.shape)\n",
        "print(\"Type: \",arr3.dtype)\n",
        "print(\"Item Size : \",arr3.itemsize)\n",
        "print(\"Imaginary Parts: \",arr3.imag)\n",
        "print(\"Real Parts: \",arr3.real)\n"
      ],
      "metadata": {
        "colab": {
          "base_uri": "https://localhost:8080/"
        },
        "id": "rWJDsDK4GX0_",
        "outputId": "5d04e407-e04e-428f-9d5a-4ea915e6a9ce"
      },
      "execution_count": 31,
      "outputs": [
        {
          "output_type": "stream",
          "name": "stdout",
          "text": [
            "Array:  [1.+0.j 2.+0.j 3.+0.j 4.+0.j 5.+0.j]\n",
            "size:  5\n",
            "Dimension:  1\n",
            "Shape:  (5,)\n",
            "Type:  complex128\n",
            "Item Size :  16\n",
            "Imaginary Parts:  [0. 0. 0. 0. 0.]\n",
            "Real Parts:  [1. 2. 3. 4. 5.]\n"
          ]
        }
      ]
    },
    {
      "cell_type": "markdown",
      "source": [
        "# ***Placeholder Arrays***\n",
        "\n",
        "we can easly initialize array with zero by using zeros method. and we need to provide the shape of the array on there.\n"
      ],
      "metadata": {
        "id": "Xbk5SPjsHjKX"
      }
    },
    {
      "cell_type": "code",
      "source": [
        "arr6=np.zeros((2),dtype=\"int64\",)\n",
        "arr7=np.zeros((3,3),dtype=\"int64\",)\n",
        "\n",
        "print(\"Array 6 :\",arr6)\n",
        "print()\n",
        "print(\"Array 7: \",arr7)\n",
        "\n"
      ],
      "metadata": {
        "colab": {
          "base_uri": "https://localhost:8080/"
        },
        "id": "Ne3ErOQBHnkW",
        "outputId": "261dfeaa-2d3e-4049-ff3e-aaf680713bac"
      },
      "execution_count": 41,
      "outputs": [
        {
          "output_type": "stream",
          "name": "stdout",
          "text": [
            "Array 6 : [0 0]\n",
            "\n",
            "Array 7:  [[0 0 0]\n",
            " [0 0 0]\n",
            " [0 0 0]]\n"
          ]
        }
      ]
    }
  ]
}