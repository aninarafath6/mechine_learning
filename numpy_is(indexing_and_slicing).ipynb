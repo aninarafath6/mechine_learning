{
  "nbformat": 4,
  "nbformat_minor": 0,
  "metadata": {
    "colab": {
      "provenance": [],
      "authorship_tag": "ABX9TyOt7f8sHK+aw8hAtgX+nUNU",
      "include_colab_link": true
    },
    "kernelspec": {
      "name": "python3",
      "display_name": "Python 3"
    },
    "language_info": {
      "name": "python"
    }
  },
  "cells": [
    {
      "cell_type": "markdown",
      "metadata": {
        "id": "view-in-github",
        "colab_type": "text"
      },
      "source": [
        "<a href=\"https://colab.research.google.com/github/aninarafath6/mechine_learning/blob/main/numpy_is(indexing_and_slicing).ipynb\" target=\"_parent\"><img src=\"https://colab.research.google.com/assets/colab-badge.svg\" alt=\"Open In Colab\"/></a>"
      ]
    },
    {
      "cell_type": "markdown",
      "source": [
        "# ***Indexing and Slicing***"
      ],
      "metadata": {
        "id": "oj6liDKgdzLb"
      }
    },
    {
      "cell_type": "markdown",
      "source": [
        "We can access data from numpy array by it's index . it is similar to list."
      ],
      "metadata": {
        "id": "7ttaW3bPdyn3"
      }
    },
    {
      "cell_type": "code",
      "execution_count": 2,
      "metadata": {
        "id": "gg0_NOkkc7HZ"
      },
      "outputs": [],
      "source": [
        "import numpy as np"
      ]
    },
    {
      "cell_type": "code",
      "source": [
        "def arrDetials(arr):\n",
        "    print(arr)\n",
        "    print()\n",
        "    print(\"Size : \",arr.size)\n",
        "    print(\"Shape : \",arr.shape)\n",
        "    print(\"Dimension : {} Dimmensional  array\".format(arr.ndim))\n",
        "    print(\"Type : \",arr.dtype)"
      ],
      "metadata": {
        "id": "jdt_v90FiBii"
      },
      "execution_count": 35,
      "outputs": []
    },
    {
      "cell_type": "code",
      "source": [
        "my_list = [10,20,30,40,50]\n",
        "arr = np.array(my_list,dtype=\"int64\")\n",
        "arrDetials(arr)\n",
        "\n"
      ],
      "metadata": {
        "colab": {
          "base_uri": "https://localhost:8080/"
        },
        "id": "YOzGw0vkgVeW",
        "outputId": "86c668b3-e743-40a8-e424-0fa770f79d09"
      },
      "execution_count": 19,
      "outputs": [
        {
          "output_type": "stream",
          "name": "stdout",
          "text": [
            "Array :  [10 20 30 40 50]\n",
            "Size :  5\n",
            "Shape :  (5,)\n",
            "Dimension :  1\n",
            "Type :  int64\n"
          ]
        }
      ]
    },
    {
      "cell_type": "markdown",
      "source": [
        "# Access Element through index"
      ],
      "metadata": {
        "id": "fZL50ty3hYq2"
      }
    },
    {
      "cell_type": "code",
      "source": [
        "arr[1]\n",
        "arr[2]"
      ],
      "metadata": {
        "colab": {
          "base_uri": "https://localhost:8080/"
        },
        "id": "pvdu5huBhbUp",
        "outputId": "4a458c54-316d-486a-98fc-8d9ef58873f8"
      },
      "execution_count": 12,
      "outputs": [
        {
          "output_type": "execute_result",
          "data": {
            "text/plain": [
              "30"
            ]
          },
          "metadata": {},
          "execution_count": 12
        }
      ]
    },
    {
      "cell_type": "code",
      "source": [
        "arr[-2] #negative indexing it will give values from last"
      ],
      "metadata": {
        "colab": {
          "base_uri": "https://localhost:8080/"
        },
        "id": "rARkf-lihh2J",
        "outputId": "56cf6aad-4612-4afc-c0c1-62d546fd7516"
      },
      "execution_count": 14,
      "outputs": [
        {
          "output_type": "execute_result",
          "data": {
            "text/plain": [
              "40"
            ]
          },
          "metadata": {},
          "execution_count": 14
        }
      ]
    },
    {
      "cell_type": "code",
      "source": [
        "arr = np.array([[1,2,3],[4,5,6]])\n",
        "arrDetials(arr)\n",
        "\n",
        "\n",
        "# we can access data by these two methods\n",
        "print(arr[1,1])\n",
        "print(arr[1][1])\n",
        "\n",
        "# for getting first row \n",
        "print(arr[0])\n",
        "# for getting second row\n",
        "print(arr[1])"
      ],
      "metadata": {
        "colab": {
          "base_uri": "https://localhost:8080/"
        },
        "id": "YnpEtkavh3D9",
        "outputId": "1615f4e2-ac38-4a77-c52f-cb0f9ca995cc"
      },
      "execution_count": 28,
      "outputs": [
        {
          "output_type": "stream",
          "name": "stdout",
          "text": [
            "[[1 2 3]\n",
            " [4 5 6]]\n",
            "\n",
            "Size :  6\n",
            "Shape :  (2, 3)\n",
            "Dimension :  2\n",
            "Type :  int64\n",
            "5\n",
            "5\n",
            "[1 2 3]\n",
            "[4 5 6]\n"
          ]
        }
      ]
    },
    {
      "cell_type": "code",
      "source": [
        "#3D Array\n",
        "arr = np.random.randint(1,9,(2,3,4))\n",
        "arrDetials(arr)\n"
      ],
      "metadata": {
        "colab": {
          "base_uri": "https://localhost:8080/"
        },
        "id": "jCH_EC01jU7D",
        "outputId": "5f0439d9-8976-4a80-c441-1f0dc418a2ca"
      },
      "execution_count": 41,
      "outputs": [
        {
          "output_type": "stream",
          "name": "stdout",
          "text": [
            "[[[1 4 5 8]\n",
            "  [3 4 5 4]\n",
            "  [2 2 6 8]]\n",
            "\n",
            " [[3 3 1 8]\n",
            "  [2 4 3 7]\n",
            "  [4 3 1 8]]]\n",
            "\n",
            "Size :  24\n",
            "Shape :  (2, 3, 4)\n",
            "Dimension : 3 Dimmensional  array\n",
            "Type :  int64\n"
          ]
        }
      ]
    },
    {
      "cell_type": "code",
      "source": [
        "print(arr[1,2,3])"
      ],
      "metadata": {
        "colab": {
          "base_uri": "https://localhost:8080/"
        },
        "id": "TCkIOH1_kYXd",
        "outputId": "a12d772b-9f4a-4450-b01b-a78cf63053e5"
      },
      "execution_count": 44,
      "outputs": [
        {
          "output_type": "stream",
          "name": "stdout",
          "text": [
            "8\n"
          ]
        }
      ]
    },
    {
      "cell_type": "markdown",
      "source": [
        "# ***Slicing***\n",
        "which is similar to python list."
      ],
      "metadata": {
        "id": "n6f9npP2lFxA"
      }
    },
    {
      "cell_type": "code",
      "source": [
        "arr = np.arange(10)\n",
        "arrDetials(arr)"
      ],
      "metadata": {
        "colab": {
          "base_uri": "https://localhost:8080/"
        },
        "id": "clZvfLwvlHwD",
        "outputId": "2bc72515-ebee-4a2a-b4ff-1165de212121"
      },
      "execution_count": 49,
      "outputs": [
        {
          "output_type": "stream",
          "name": "stdout",
          "text": [
            "[0 1 2 3 4 5 6 7 8 9]\n",
            "\n",
            "Size :  10\n",
            "Shape :  (10,)\n",
            "Dimension : 1 Dimmensional  array\n",
            "Type :  int64\n"
          ]
        }
      ]
    },
    {
      "cell_type": "code",
      "source": [
        "arr[0:5]"
      ],
      "metadata": {
        "colab": {
          "base_uri": "https://localhost:8080/"
        },
        "id": "20I5hO-blfEi",
        "outputId": "58699b79-232d-4048-afb7-e77bd369a783"
      },
      "execution_count": 51,
      "outputs": [
        {
          "output_type": "execute_result",
          "data": {
            "text/plain": [
              "array([0, 1, 2, 3, 4])"
            ]
          },
          "metadata": {},
          "execution_count": 51
        }
      ]
    },
    {
      "cell_type": "code",
      "source": [
        "arr[5:]"
      ],
      "metadata": {
        "colab": {
          "base_uri": "https://localhost:8080/"
        },
        "id": "63ByLKy4ljUb",
        "outputId": "c68b1c60-3d05-4686-e78a-1be1679fa9ce"
      },
      "execution_count": 55,
      "outputs": [
        {
          "output_type": "execute_result",
          "data": {
            "text/plain": [
              "array([5, 6, 7, 8, 9])"
            ]
          },
          "metadata": {},
          "execution_count": 55
        }
      ]
    },
    {
      "cell_type": "code",
      "source": [
        "arr[:5]"
      ],
      "metadata": {
        "colab": {
          "base_uri": "https://localhost:8080/"
        },
        "id": "EOSVlCrFl2P3",
        "outputId": "b010fbcb-470c-4746-cdcd-08c4b2e61312"
      },
      "execution_count": 56,
      "outputs": [
        {
          "output_type": "execute_result",
          "data": {
            "text/plain": [
              "array([0, 1, 2, 3, 4])"
            ]
          },
          "metadata": {},
          "execution_count": 56
        }
      ]
    },
    {
      "cell_type": "code",
      "source": [
        "arr = np.random.randint(1,9,(4,4))\n",
        "arrDetials(arr)\n"
      ],
      "metadata": {
        "colab": {
          "base_uri": "https://localhost:8080/"
        },
        "id": "aR7F_3d0m36O",
        "outputId": "08c1fd39-7245-4b54-9eb9-917e1d280dfa"
      },
      "execution_count": 67,
      "outputs": [
        {
          "output_type": "stream",
          "name": "stdout",
          "text": [
            "[[3 3 5 6]\n",
            " [2 3 4 7]\n",
            " [4 3 8 3]\n",
            " [2 5 6 5]]\n",
            "\n",
            "Size :  16\n",
            "Shape :  (4, 4)\n",
            "Dimension : 2 Dimmensional  array\n",
            "Type :  int64\n"
          ]
        }
      ]
    },
    {
      "cell_type": "code",
      "source": [
        "arr[:3,-1]"
      ],
      "metadata": {
        "colab": {
          "base_uri": "https://localhost:8080/"
        },
        "id": "Vyn5AmdCnGmo",
        "outputId": "e5c2fb12-e91c-4dc2-9d25-1d09f9615247"
      },
      "execution_count": 71,
      "outputs": [
        {
          "output_type": "execute_result",
          "data": {
            "text/plain": [
              "array([6, 7, 3])"
            ]
          },
          "metadata": {},
          "execution_count": 71
        }
      ]
    },
    {
      "cell_type": "code",
      "source": [
        "#start:end:step_size\n",
        "arr[2,::2]"
      ],
      "metadata": {
        "colab": {
          "base_uri": "https://localhost:8080/"
        },
        "id": "PFN42f7MoWE4",
        "outputId": "c6bbab63-9316-4c23-c770-a19df27c2b4c"
      },
      "execution_count": 73,
      "outputs": [
        {
          "output_type": "execute_result",
          "data": {
            "text/plain": [
              "array([4, 8])"
            ]
          },
          "metadata": {},
          "execution_count": 73
        }
      ]
    },
    {
      "cell_type": "markdown",
      "source": [
        "## ***Indexing Using Arrays***"
      ],
      "metadata": {
        "id": "TMMiTmHnolit"
      }
    },
    {
      "cell_type": "code",
      "source": [
        "arr"
      ],
      "metadata": {
        "colab": {
          "base_uri": "https://localhost:8080/"
        },
        "id": "LQ52P8UXopZF",
        "outputId": "b5ae1d85-e842-474a-c447-a2c216a7086c"
      },
      "execution_count": 74,
      "outputs": [
        {
          "output_type": "execute_result",
          "data": {
            "text/plain": [
              "array([[3, 3, 5, 6],\n",
              "       [2, 3, 4, 7],\n",
              "       [4, 3, 8, 3],\n",
              "       [2, 5, 6, 5]])"
            ]
          },
          "metadata": {},
          "execution_count": 74
        }
      ]
    },
    {
      "cell_type": "code",
      "source": [
        "arr[np.array([1,3])]"
      ],
      "metadata": {
        "colab": {
          "base_uri": "https://localhost:8080/"
        },
        "id": "st0pDEOTorvk",
        "outputId": "b3eeccb3-81c3-4740-f426-0f817e09e6a6"
      },
      "execution_count": 76,
      "outputs": [
        {
          "output_type": "execute_result",
          "data": {
            "text/plain": [
              "array([[2, 3, 4, 7],\n",
              "       [2, 5, 6, 5]])"
            ]
          },
          "metadata": {},
          "execution_count": 76
        }
      ]
    },
    {
      "cell_type": "markdown",
      "source": [
        "## ***Slicing with boolean***"
      ],
      "metadata": {
        "id": "PHfk2LBfo_E1"
      }
    },
    {
      "cell_type": "code",
      "source": [
        "arr[arr<5]"
      ],
      "metadata": {
        "colab": {
          "base_uri": "https://localhost:8080/"
        },
        "id": "zWtSPudxpCKA",
        "outputId": "796c9f5f-399f-49c2-8904-4c3611e2cdd4"
      },
      "execution_count": 79,
      "outputs": [
        {
          "output_type": "execute_result",
          "data": {
            "text/plain": [
              "array([3, 3, 2, 3, 4, 4, 3, 3, 2])"
            ]
          },
          "metadata": {},
          "execution_count": 79
        }
      ]
    }
  ]
}