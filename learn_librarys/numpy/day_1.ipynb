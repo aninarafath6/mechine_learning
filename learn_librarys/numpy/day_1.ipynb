{
 "cells": [
  {
   "attachments": {},
   "cell_type": "markdown",
   "metadata": {},
   "source": [
    "**Essential Packages**"
   ]
  },
  {
   "cell_type": "code",
   "execution_count": 1,
   "metadata": {},
   "outputs": [
    {
     "name": "stdout",
     "output_type": "stream",
     "text": [
      "1.24.2\n"
     ]
    }
   ],
   "source": [
    "import numpy as np\n",
    "from py_md import  *\n",
    "\n",
    "print(np.__version__)"
   ]
  },
  {
   "cell_type": "code",
   "execution_count": 2,
   "metadata": {},
   "outputs": [
    {
     "data": {
      "text/plain": [
       "array([22,  2,  3,  4,  5], dtype=int32)"
      ]
     },
     "execution_count": 2,
     "metadata": {},
     "output_type": "execute_result"
    }
   ],
   "source": [
    "#crate an array \n",
    "list = [1,2,3,4,5]\n",
    "\n",
    "numpy_array = np.array(list,dtype='int32')\n",
    "numpy_array[0] = 22.2\n",
    "numpy_array"
   ]
  },
  {
   "cell_type": "code",
   "execution_count": 3,
   "metadata": {},
   "outputs": [
    {
     "name": "stdout",
     "output_type": "stream",
     "text": [
      "<class 'list'>\n",
      "<class 'numpy.ndarray'>\n",
      "\n",
      "================================\n",
      "\n",
      "array:  [22  2  3  4  5]\n",
      "size:  5\n",
      "Dimension:  1\n",
      "Shape:  (5,)\n",
      "Type:  int32\n",
      "Item Size:  4\n"
     ]
    }
   ],
   "source": [
    "print(type(list))\n",
    "print(type(numpy_array))\n",
    "print(\"\\n================================\\n\")\n",
    "get_details(numpy_array)"
   ]
  },
  {
   "cell_type": "markdown",
   "metadata": {},
   "source": []
  },
  {
   "cell_type": "code",
   "execution_count": 2,
   "metadata": {},
   "outputs": [
    {
     "name": "stdout",
     "output_type": "stream",
     "text": [
      "array:\n",
      " [[1.+0.j 2.+0.j 3.+0.j]\n",
      " [2.+0.j 3.+0.j 4.+0.j]]\n",
      "size:  6\n",
      "Dimension:  2\n",
      "Shape:  (2, 3)\n",
      "Type:  complex128\n",
      "Item Size:  16\n",
      "Imaginary: [[0. 0. 0.]\n",
      " [0. 0. 0.]]\n",
      "Real: [[1. 2. 3.]\n",
      " [2. 3. 4.]]\n"
     ]
    },
    {
     "data": {
      "text/plain": [
       "array([[1.+0.j, 2.+0.j, 3.+0.j],\n",
       "       [2.+0.j, 3.+0.j, 4.+0.j]])"
      ]
     },
     "execution_count": 2,
     "metadata": {},
     "output_type": "execute_result"
    }
   ],
   "source": [
    "# 2 dimensional array (Matrix)\n",
    "\n",
    "\n",
    "list = [[1,2,3],[2,3,4]]\n",
    "#complex data type \n",
    "np_arr = np.array(list,dtype=\"complex\")\n",
    "get_details(np_arr,cdts)\n",
    "\n",
    "\n"
   ]
  },
  {
   "cell_type": "code",
   "execution_count": 5,
   "metadata": {},
   "outputs": [
    {
     "name": "stdout",
     "output_type": "stream",
     "text": [
      "array:  [[[1 2]\n",
      "  [3 4]]\n",
      "\n",
      " [[1 2]\n",
      "  [3 4]]]\n",
      "size:  8\n",
      "Dimension:  3\n",
      "Shape:  (2, 2, 2)\n",
      "Type:  int64\n",
      "Item Size:  8\n"
     ]
    }
   ],
   "source": [
    "# 3 Dimensional Numpy arrays\n",
    "three_dims_list = [[[1,2],[3,4]],[[1,2],[3,4]]]\n",
    "np_arr = np.array(three_dims_list,dtype=\"int64\")\n",
    "\n",
    "get_details(np_arr)"
   ]
  }
 ],
 "metadata": {
  "kernelspec": {
   "display_name": "Python 3",
   "language": "python",
   "name": "python3"
  },
  "language_info": {
   "codemirror_mode": {
    "name": "ipython",
    "version": 3
   },
   "file_extension": ".py",
   "mimetype": "text/x-python",
   "name": "python",
   "nbconvert_exporter": "python",
   "pygments_lexer": "ipython3",
   "version": "3.11.2"
  },
  "orig_nbformat": 4
 },
 "nbformat": 4,
 "nbformat_minor": 2
}
