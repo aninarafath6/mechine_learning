{
 "cells": [
  {
   "attachments": {},
   "cell_type": "markdown",
   "metadata": {},
   "source": [
    "**Indexing and Slicing**"
   ]
  },
  {
   "cell_type": "code",
   "execution_count": 2,
   "metadata": {},
   "outputs": [],
   "source": [
    "import numpy as np\n",
    "from py_md import *"
   ]
  },
  {
   "cell_type": "code",
   "execution_count": 9,
   "metadata": {},
   "outputs": [
    {
     "name": "stdout",
     "output_type": "stream",
     "text": [
      "array:\n",
      " [3]\n",
      "size:  1\n",
      "Dimension:  1\n",
      "Shape:  (1,)\n",
      "Type:  int64\n",
      "Item Size:  8\n",
      "Item : 3\n"
     ]
    }
   ],
   "source": [
    "# from random ndarray\n",
    "# in 1D array\n",
    "\n",
    "arr = np.random.randint(1,9,(1))\n",
    "get_details(arr)\n",
    "\n",
    "print(\"Item : \"+str(arr[0]))"
   ]
  },
  {
   "cell_type": "code",
   "execution_count": 11,
   "metadata": {},
   "outputs": [
    {
     "name": "stdout",
     "output_type": "stream",
     "text": [
      "array:\n",
      " [[4 6]\n",
      " [5 5]]\n",
      "size:  4\n",
      "Dimension:  2\n",
      "Shape:  (2, 2)\n",
      "Type:  int64\n",
      "Item Size:  8\n",
      "Item : 6\n"
     ]
    }
   ],
   "source": [
    "# in 2D array\n",
    "arr = np.random.randint(1,9,(2,2))\n",
    "get_details(arr)\n",
    "\n",
    "print(\"Item : \"+str(arr[0,1]))\n",
    "\n",
    "\n"
   ]
  },
  {
   "cell_type": "code",
   "execution_count": 16,
   "metadata": {},
   "outputs": [
    {
     "name": "stdout",
     "output_type": "stream",
     "text": [
      "array:\n",
      " [[[6 4 2]\n",
      "  [6 8 1]\n",
      "  [7 6 5]]\n",
      "\n",
      " [[1 6 5]\n",
      "  [5 5 4]\n",
      "  [7 1 6]]\n",
      "\n",
      " [[7 1 2]\n",
      "  [4 2 3]\n",
      "  [2 6 6]]]\n",
      "size:  27\n",
      "Dimension:  3\n",
      "Shape:  (3, 3, 3)\n",
      "Type:  int64\n",
      "Item Size:  8\n",
      "Item : 4\n"
     ]
    }
   ],
   "source": [
    "# in the case of 3D array\n",
    "arr = np.random.randint(1,9,(3,3,3))\n",
    "get_details(arr)\n",
    "\n",
    "print(\"Item : \"+str(arr[1,1,2]))\n",
    "\n"
   ]
  },
  {
   "cell_type": "code",
   "execution_count": 17,
   "metadata": {},
   "outputs": [
    {
     "name": "stdout",
     "output_type": "stream",
     "text": [
      "array:\n",
      " [ 1  2  3  4  5  6  7  8  9 10]\n",
      "size:  10\n",
      "Dimension:  1\n",
      "Shape:  (10,)\n",
      "Type:  int64\n",
      "Item Size:  8\n",
      "[2 3 4 5]\n"
     ]
    }
   ],
   "source": [
    "#Slicing \n",
    "arr = np.array([1,2,3,4,5,6,7,8,9,10])\n",
    "get_details(arr)\n",
    "\n",
    "print(arr[1:5])"
   ]
  },
  {
   "cell_type": "code",
   "execution_count": 43,
   "metadata": {},
   "outputs": [
    {
     "name": "stdout",
     "output_type": "stream",
     "text": [
      "array:\n",
      " [[3 6 7 3 8 2]\n",
      " [2 2 8 7 7 3]\n",
      " [4 8 4 7 8 7]]\n",
      "size:  18\n",
      "Dimension:  2\n",
      "Shape:  (3, 6)\n",
      "Type:  int64\n",
      "Item Size:  8\n",
      "======== Sliced in 2D array =================\n",
      "[[4 4 8]]\n"
     ]
    }
   ],
   "source": [
    "#Slicing in 2D array \n",
    "arr  = np.random.randint(1,9,(3,6))\n",
    "get_details(arr)\n",
    "\n",
    "print(\"======== Sliced in 2D array =================\")\n",
    "print(arr[-1:,::2])\n",
    "# with step size"
   ]
  },
  {
   "cell_type": "code",
   "execution_count": 46,
   "metadata": {},
   "outputs": [
    {
     "name": "stdout",
     "output_type": "stream",
     "text": [
      "array:\n",
      " [ 1  2  3  4  5  6  7  8  9 10 11 12 13 14 15 16 17 18 19]\n",
      "size:  19\n",
      "Dimension:  1\n",
      "Shape:  (19,)\n",
      "Type:  int64\n",
      "Item Size:  8\n"
     ]
    },
    {
     "data": {
      "text/plain": [
       "array([ 1,  2,  3,  4,  5,  6,  7,  8,  9, 10])"
      ]
     },
     "execution_count": 46,
     "metadata": {},
     "output_type": "execute_result"
    }
   ],
   "source": [
    "arr = np.arange(1,20)\n",
    "get_details(arr)\n",
    " \n",
    "condition = arr <= 10\n",
    "arr[condition]"
   ]
  }
 ],
 "metadata": {
  "kernelspec": {
   "display_name": "Python 3",
   "language": "python",
   "name": "python3"
  },
  "language_info": {
   "codemirror_mode": {
    "name": "ipython",
    "version": 3
   },
   "file_extension": ".py",
   "mimetype": "text/x-python",
   "name": "python",
   "nbconvert_exporter": "python",
   "pygments_lexer": "ipython3",
   "version": "3.11.2"
  },
  "orig_nbformat": 4
 },
 "nbformat": 4,
 "nbformat_minor": 2
}
