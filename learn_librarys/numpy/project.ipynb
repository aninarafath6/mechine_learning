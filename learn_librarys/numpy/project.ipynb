{
 "cells": [
  {
   "attachments": {},
   "cell_type": "markdown",
   "metadata": {},
   "source": [
    "## **Numpy in Action**"
   ]
  },
  {
   "cell_type": "code",
   "execution_count": 38,
   "metadata": {},
   "outputs": [],
   "source": [
    "import numpy as np\n",
    "from py_md import * \n",
    "from matplotlib.image import imread\n"
   ]
  },
  {
   "attachments": {},
   "cell_type": "markdown",
   "metadata": {},
   "source": [
    " <img width='210' src=\"./data/cat.avif\"/>  <img width='210' src=\"./data/dog.jpg\"/> <img width='210' height=\"210\" src=\"./data/dog.webp\"/> "
   ]
  },
  {
   "cell_type": "code",
   "execution_count": 44,
   "metadata": {},
   "outputs": [
    {
     "name": "stdout",
     "output_type": "stream",
     "text": [
      "array:\n",
      " [[[ 89  87  92]\n",
      "  [ 89  87  92]\n",
      "  [ 90  88  93]\n",
      "  ...\n",
      "  [ 99 118  72]\n",
      "  [ 99 118  72]\n",
      "  [ 99 118  72]]\n",
      "\n",
      " [[ 89  87  92]\n",
      "  [ 89  87  92]\n",
      "  [ 90  88  93]\n",
      "  ...\n",
      "  [ 99 118  72]\n",
      "  [ 99 118  72]\n",
      "  [ 99 118  72]]\n",
      "\n",
      " [[ 89  86  93]\n",
      "  [ 89  86  93]\n",
      "  [ 90  87  94]\n",
      "  ...\n",
      "  [ 99 118  72]\n",
      "  [ 99 118  72]\n",
      "  [ 99 118  72]]\n",
      "\n",
      " ...\n",
      "\n",
      " [[222 199 149]\n",
      "  [215 191 143]\n",
      "  [198 176 129]\n",
      "  ...\n",
      "  [206 184 187]\n",
      "  [206 184 187]\n",
      "  [206 184 187]]\n",
      "\n",
      " [[223 201 152]\n",
      "  [230 208 159]\n",
      "  [219 197 150]\n",
      "  ...\n",
      "  [208 186 189]\n",
      "  [208 186 189]\n",
      "  [208 186 189]]\n",
      "\n",
      " [[222 201 154]\n",
      "  [223 202 155]\n",
      "  [219 198 153]\n",
      "  ...\n",
      "  [208 186 189]\n",
      "  [208 186 189]\n",
      "  [209 187 190]]]\n",
      "size:  16652553\n",
      "Dimension:  3\n",
      "Shape:  (2113, 2627, 3)\n",
      "Type:  uint8\n",
      "Item Size:  1\n"
     ]
    }
   ],
   "source": [
    "# Turn an image into numpy array\n",
    "cat = imread(\"./data/axis.jpeg\")\n",
    "get_details(mouse)\n"
   ]
  }
 ],
 "metadata": {
  "kernelspec": {
   "display_name": "Python 3",
   "language": "python",
   "name": "python3"
  },
  "language_info": {
   "codemirror_mode": {
    "name": "ipython",
    "version": 3
   },
   "file_extension": ".py",
   "mimetype": "text/x-python",
   "name": "python",
   "nbconvert_exporter": "python",
   "pygments_lexer": "ipython3",
   "version": "3.11.2"
  },
  "orig_nbformat": 4
 },
 "nbformat": 4,
 "nbformat_minor": 2
}
