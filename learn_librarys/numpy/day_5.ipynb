{
 "cells": [
  {
   "cell_type": "code",
   "execution_count": 52,
   "metadata": {},
   "outputs": [],
   "source": [
    "# Import Essential packages\n",
    "import numpy as np\n",
    "from py_md import *\n"
   ]
  },
  {
   "attachments": {},
   "cell_type": "markdown",
   "metadata": {},
   "source": [
    "<img src=\"./data/axis.jpeg\">"
   ]
  },
  {
   "cell_type": "code",
   "execution_count": 53,
   "metadata": {},
   "outputs": [
    {
     "name": "stdout",
     "output_type": "stream",
     "text": [
      "array:\n",
      " [[17 12]\n",
      " [14 12]\n",
      " [14 17]\n",
      " [18 14]]\n",
      "size:  8\n",
      "Dimension:  2\n",
      "Shape:  (4, 2)\n",
      "Type:  int64\n",
      "Item Size:  8\n"
     ]
    }
   ],
   "source": [
    "# scalar operation \n",
    "arr = np.random.randint(11,20,(4,2))\n",
    "get_details(arr)"
   ]
  },
  {
   "cell_type": "code",
   "execution_count": 54,
   "metadata": {},
   "outputs": [
    {
     "data": {
      "text/plain": [
       "array([[19, 14],\n",
       "       [16, 14],\n",
       "       [16, 19],\n",
       "       [20, 16]])"
      ]
     },
     "execution_count": 54,
     "metadata": {},
     "output_type": "execute_result"
    }
   ],
   "source": [
    "# scalar operations on ndarray\n",
    "arr+ 2"
   ]
  },
  {
   "cell_type": "code",
   "execution_count": 55,
   "metadata": {},
   "outputs": [
    {
     "data": {
      "text/plain": [
       "array([[16, 11],\n",
       "       [13, 11],\n",
       "       [13, 16],\n",
       "       [17, 13]])"
      ]
     },
     "execution_count": 55,
     "metadata": {},
     "output_type": "execute_result"
    }
   ],
   "source": [
    "# scalar substraction\n",
    "arr -1"
   ]
  },
  {
   "cell_type": "code",
   "execution_count": 56,
   "metadata": {},
   "outputs": [
    {
     "name": "stdout",
     "output_type": "stream",
     "text": [
      "[[34 24]\n",
      " [28 24]\n",
      " [28 34]\n",
      " [36 28]]\n",
      "[[289 144]\n",
      " [196 144]\n",
      " [196 289]\n",
      " [324 196]]\n"
     ]
    }
   ],
   "source": [
    "# scalar multiplication\n",
    "print(arr *2 )\n",
    "print(arr **2 ) # power of 2"
   ]
  },
  {
   "cell_type": "code",
   "execution_count": 57,
   "metadata": {},
   "outputs": [
    {
     "name": "stdout",
     "output_type": "stream",
     "text": [
      "array:\n",
      " [[11 14 11 11]\n",
      " [11 17 13 14]]\n",
      "size:  8\n",
      "Dimension:  2\n",
      "Shape:  (2, 4)\n",
      "Type:  int64\n",
      "Item Size:  8\n"
     ]
    }
   ],
   "source": [
    "arr_2 = np.random.randint(11,20,(2,4))\n",
    "get_details(arr_2)"
   ]
  },
  {
   "cell_type": "code",
   "execution_count": 58,
   "metadata": {},
   "outputs": [],
   "source": [
    "# arr + arr_2\n",
    "# must be same dimension"
   ]
  },
  {
   "cell_type": "code",
   "execution_count": 59,
   "metadata": {},
   "outputs": [],
   "source": [
    "# arr * arr_2\n",
    "# must be same dimension\n"
   ]
  },
  {
   "cell_type": "code",
   "execution_count": 60,
   "metadata": {},
   "outputs": [],
   "source": [
    "# must be same dimension\n",
    "# arr / arr_2"
   ]
  },
  {
   "cell_type": "code",
   "execution_count": 61,
   "metadata": {},
   "outputs": [
    {
     "data": {
      "text/plain": [
       "array([[319, 442, 343, 355],\n",
       "       [286, 400, 310, 322],\n",
       "       [341, 485, 375, 392],\n",
       "       [352, 490, 380, 394]])"
      ]
     },
     "execution_count": 61,
     "metadata": {},
     "output_type": "execute_result"
    }
   ],
   "source": [
    "#dont product of matrix\n",
    "arr.dot(arr_2)"
   ]
  },
  {
   "cell_type": "code",
   "execution_count": 62,
   "metadata": {},
   "outputs": [
    {
     "data": {
      "text/plain": [
       "array([ True,  True, False,  True,  True,  True,  True])"
      ]
     },
     "execution_count": 62,
     "metadata": {},
     "output_type": "execute_result"
    }
   ],
   "source": [
    "a = np.array([1,2,0,1,1,0,1])\n",
    "b = np.array([1,2,3,1,1,0,1,])\n",
    "\n",
    "a== b"
   ]
  },
  {
   "cell_type": "code",
   "execution_count": 63,
   "metadata": {},
   "outputs": [
    {
     "data": {
      "text/plain": [
       "array([ True,  True,  True,  True,  True, False,  True])"
      ]
     },
     "execution_count": 63,
     "metadata": {},
     "output_type": "execute_result"
    }
   ],
   "source": [
    "np.logical_or(a,b)"
   ]
  },
  {
   "cell_type": "code",
   "execution_count": 64,
   "metadata": {},
   "outputs": [
    {
     "data": {
      "text/plain": [
       "array([ True,  True, False,  True,  True, False,  True])"
      ]
     },
     "execution_count": 64,
     "metadata": {},
     "output_type": "execute_result"
    }
   ],
   "source": [
    "np.logical_and(a,b)"
   ]
  },
  {
   "cell_type": "code",
   "execution_count": 76,
   "metadata": {},
   "outputs": [
    {
     "name": "stdout",
     "output_type": "stream",
     "text": [
      "Sin :[0.84147098 0.90929743 0.14112001 0.84147098 0.84147098 0.\n",
      " 0.84147098]\n",
      "Cos :[ 0.54030231 -0.41614684 -0.9899925   0.54030231  0.54030231  1.\n",
      "  0.54030231]\n",
      "Mean :1.2857142857142858\n",
      "Median :1.0\n",
      "Standard Deviation :0.880630571852711\n"
     ]
    }
   ],
   "source": [
    "# Statistical Operations\n",
    "print(\"Sin :\"+str(np.sin(b)))\n",
    "print(\"Cos :\"+str(np.cos(b)))\n",
    "print(\"Mean :\"+str(np.mean(b)))\n",
    "print(\"Median :\"+str(np.median(b)))\n",
    "print(\"Standard Deviation :\"+str(np.std(b)))\n",
    "\n",
    "\n",
    "\n",
    "\n",
    "\n"
   ]
  }
 ],
 "metadata": {
  "kernelspec": {
   "display_name": "Python 3",
   "language": "python",
   "name": "python3"
  },
  "language_info": {
   "codemirror_mode": {
    "name": "ipython",
    "version": 3
   },
   "file_extension": ".py",
   "mimetype": "text/x-python",
   "name": "python",
   "nbconvert_exporter": "python",
   "pygments_lexer": "ipython3",
   "version": "3.11.2"
  },
  "orig_nbformat": 4
 },
 "nbformat": 4,
 "nbformat_minor": 2
}
