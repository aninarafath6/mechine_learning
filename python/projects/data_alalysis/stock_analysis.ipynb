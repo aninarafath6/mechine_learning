{
 "cells": [
  {
   "attachments": {},
   "cell_type": "markdown",
   "metadata": {},
   "source": [
    "## **`Stock Analysis`**\n",
    "In this notebook, we will use `Python` to analyze `stock` data and make investment decisions. We will use the `pandas` library to import stock data, `clean` and `preprocess` it, and then use various techniques to `analyze the data`"
   ]
  },
  {
   "cell_type": "code",
   "execution_count": 26,
   "metadata": {},
   "outputs": [],
   "source": [
    "import pandas_datareader.data as web\n",
    "import pandas as pd\n",
    "import datetime"
   ]
  },
  {
   "cell_type": "code",
   "execution_count": 27,
   "metadata": {},
   "outputs": [],
   "source": [
    "start = datetime.datetime(2020,1,1)\n",
    "end = datetime.datetime(2020,4,20)"
   ]
  },
  {
   "attachments": {},
   "cell_type": "markdown",
   "metadata": {},
   "source": [
    "## **`Data Preprocessing`**\n",
    " We will start by importing stock data into a pandas dataframe. We will then clean and preprocess the data by removing any missing values, handling duplicates, and transforming the data into a format that is suitable for analysis.\n",
    "\n",
    "\n"
   ]
  },
  {
   "cell_type": "code",
   "execution_count": 33,
   "metadata": {},
   "outputs": [
    {
     "data": {
      "text/html": [
       "<div>\n",
       "<style scoped>\n",
       "    .dataframe tbody tr th:only-of-type {\n",
       "        vertical-align: middle;\n",
       "    }\n",
       "\n",
       "    .dataframe tbody tr th {\n",
       "        vertical-align: top;\n",
       "    }\n",
       "\n",
       "    .dataframe thead th {\n",
       "        text-align: right;\n",
       "    }\n",
       "</style>\n",
       "<table border=\"1\" class=\"dataframe\">\n",
       "  <thead>\n",
       "    <tr style=\"text-align: right;\">\n",
       "      <th></th>\n",
       "      <th>open</th>\n",
       "      <th>high</th>\n",
       "      <th>low</th>\n",
       "      <th>close</th>\n",
       "      <th>volume</th>\n",
       "    </tr>\n",
       "    <tr>\n",
       "      <th>date</th>\n",
       "      <th></th>\n",
       "      <th></th>\n",
       "      <th></th>\n",
       "      <th></th>\n",
       "      <th></th>\n",
       "    </tr>\n",
       "  </thead>\n",
       "  <tbody>\n",
       "    <tr>\n",
       "      <th>2020-01-02</th>\n",
       "      <td>67.4205</td>\n",
       "      <td>68.4340</td>\n",
       "      <td>67.32450</td>\n",
       "      <td>68.4340</td>\n",
       "      <td>27285300.0</td>\n",
       "    </tr>\n",
       "    <tr>\n",
       "      <th>2020-01-03</th>\n",
       "      <td>67.4000</td>\n",
       "      <td>68.6875</td>\n",
       "      <td>67.36618</td>\n",
       "      <td>68.0760</td>\n",
       "      <td>23412580.0</td>\n",
       "    </tr>\n",
       "    <tr>\n",
       "      <th>2020-01-06</th>\n",
       "      <td>67.5815</td>\n",
       "      <td>69.9160</td>\n",
       "      <td>67.55000</td>\n",
       "      <td>69.8905</td>\n",
       "      <td>46786860.0</td>\n",
       "    </tr>\n",
       "    <tr>\n",
       "      <th>2020-01-07</th>\n",
       "      <td>70.0230</td>\n",
       "      <td>70.1750</td>\n",
       "      <td>69.57775</td>\n",
       "      <td>69.7555</td>\n",
       "      <td>34529120.0</td>\n",
       "    </tr>\n",
       "    <tr>\n",
       "      <th>2020-01-08</th>\n",
       "      <td>69.7410</td>\n",
       "      <td>70.5925</td>\n",
       "      <td>69.63150</td>\n",
       "      <td>70.2520</td>\n",
       "      <td>35325480.0</td>\n",
       "    </tr>\n",
       "  </tbody>\n",
       "</table>\n",
       "</div>"
      ],
      "text/plain": [
       "               open     high       low    close      volume\n",
       "date                                                       \n",
       "2020-01-02  67.4205  68.4340  67.32450  68.4340  27285300.0\n",
       "2020-01-03  67.4000  68.6875  67.36618  68.0760  23412580.0\n",
       "2020-01-06  67.5815  69.9160  67.55000  69.8905  46786860.0\n",
       "2020-01-07  70.0230  70.1750  69.57775  69.7555  34529120.0\n",
       "2020-01-08  69.7410  70.5925  69.63150  70.2520  35325480.0"
      ]
     },
     "execution_count": 33,
     "metadata": {},
     "output_type": "execute_result"
    }
   ],
   "source": [
    "google = web.DataReader(\"GOOGL\",\"iex\",start,end,api_key=\"sk_d0a3bb5ac9534db88dc8b66079928549\" )\n",
    "google.head()"
   ]
  },
  {
   "cell_type": "code",
   "execution_count": 34,
   "metadata": {},
   "outputs": [
    {
     "name": "stdout",
     "output_type": "stream",
     "text": [
      "<class 'pandas.core.frame.DataFrame'>\n",
      "Index: 75 entries, 2020-01-02 to 2020-04-20\n",
      "Data columns (total 5 columns):\n",
      " #   Column  Non-Null Count  Dtype  \n",
      "---  ------  --------------  -----  \n",
      " 0   open    75 non-null     float64\n",
      " 1   high    75 non-null     float64\n",
      " 2   low     75 non-null     float64\n",
      " 3   close   75 non-null     float64\n",
      " 4   volume  75 non-null     float64\n",
      "dtypes: float64(5)\n",
      "memory usage: 3.5+ KB\n"
     ]
    }
   ],
   "source": [
    "google.info()"
   ]
  },
  {
   "cell_type": "code",
   "execution_count": 35,
   "metadata": {},
   "outputs": [
    {
     "data": {
      "text/html": [
       "<div>\n",
       "<style scoped>\n",
       "    .dataframe tbody tr th:only-of-type {\n",
       "        vertical-align: middle;\n",
       "    }\n",
       "\n",
       "    .dataframe tbody tr th {\n",
       "        vertical-align: top;\n",
       "    }\n",
       "\n",
       "    .dataframe thead th {\n",
       "        text-align: right;\n",
       "    }\n",
       "</style>\n",
       "<table border=\"1\" class=\"dataframe\">\n",
       "  <thead>\n",
       "    <tr style=\"text-align: right;\">\n",
       "      <th></th>\n",
       "      <th>open</th>\n",
       "      <th>high</th>\n",
       "      <th>low</th>\n",
       "      <th>close</th>\n",
       "      <th>volume</th>\n",
       "    </tr>\n",
       "  </thead>\n",
       "  <tbody>\n",
       "    <tr>\n",
       "      <th>count</th>\n",
       "      <td>75.000000</td>\n",
       "      <td>75.000000</td>\n",
       "      <td>75.000000</td>\n",
       "      <td>75.000000</td>\n",
       "      <td>7.500000e+01</td>\n",
       "    </tr>\n",
       "    <tr>\n",
       "      <th>mean</th>\n",
       "      <td>66.325779</td>\n",
       "      <td>67.287950</td>\n",
       "      <td>65.319205</td>\n",
       "      <td>66.432460</td>\n",
       "      <td>4.991875e+07</td>\n",
       "    </tr>\n",
       "    <tr>\n",
       "      <th>std</th>\n",
       "      <td>7.465775</td>\n",
       "      <td>7.075720</td>\n",
       "      <td>7.840806</td>\n",
       "      <td>7.410017</td>\n",
       "      <td>2.106082e+07</td>\n",
       "    </tr>\n",
       "    <tr>\n",
       "      <th>min</th>\n",
       "      <td>52.818500</td>\n",
       "      <td>53.345500</td>\n",
       "      <td>50.443500</td>\n",
       "      <td>52.706500</td>\n",
       "      <td>2.155038e+07</td>\n",
       "    </tr>\n",
       "    <tr>\n",
       "      <th>25%</th>\n",
       "      <td>60.115000</td>\n",
       "      <td>60.735498</td>\n",
       "      <td>58.989545</td>\n",
       "      <td>60.339250</td>\n",
       "      <td>3.089453e+07</td>\n",
       "    </tr>\n",
       "    <tr>\n",
       "      <th>50%</th>\n",
       "      <td>67.948000</td>\n",
       "      <td>69.373500</td>\n",
       "      <td>67.324500</td>\n",
       "      <td>69.080000</td>\n",
       "      <td>4.956078e+07</td>\n",
       "    </tr>\n",
       "    <tr>\n",
       "      <th>75%</th>\n",
       "      <td>72.823750</td>\n",
       "      <td>73.297875</td>\n",
       "      <td>71.875000</td>\n",
       "      <td>72.618750</td>\n",
       "      <td>6.305652e+07</td>\n",
       "    </tr>\n",
       "    <tr>\n",
       "      <th>max</th>\n",
       "      <td>76.360000</td>\n",
       "      <td>76.537000</td>\n",
       "      <td>76.048800</td>\n",
       "      <td>76.243500</td>\n",
       "      <td>9.651962e+07</td>\n",
       "    </tr>\n",
       "  </tbody>\n",
       "</table>\n",
       "</div>"
      ],
      "text/plain": [
       "            open       high        low      close        volume\n",
       "count  75.000000  75.000000  75.000000  75.000000  7.500000e+01\n",
       "mean   66.325779  67.287950  65.319205  66.432460  4.991875e+07\n",
       "std     7.465775   7.075720   7.840806   7.410017  2.106082e+07\n",
       "min    52.818500  53.345500  50.443500  52.706500  2.155038e+07\n",
       "25%    60.115000  60.735498  58.989545  60.339250  3.089453e+07\n",
       "50%    67.948000  69.373500  67.324500  69.080000  4.956078e+07\n",
       "75%    72.823750  73.297875  71.875000  72.618750  6.305652e+07\n",
       "max    76.360000  76.537000  76.048800  76.243500  9.651962e+07"
      ]
     },
     "execution_count": 35,
     "metadata": {},
     "output_type": "execute_result"
    }
   ],
   "source": [
    "google.describe()"
   ]
  }
 ],
 "metadata": {
  "kernelspec": {
   "display_name": "Python 3",
   "language": "python",
   "name": "python3"
  },
  "language_info": {
   "codemirror_mode": {
    "name": "ipython",
    "version": 3
   },
   "file_extension": ".py",
   "mimetype": "text/x-python",
   "name": "python",
   "nbconvert_exporter": "python",
   "pygments_lexer": "ipython3",
   "version": "3.11.2"
  },
  "orig_nbformat": 4
 },
 "nbformat": 4,
 "nbformat_minor": 2
}
