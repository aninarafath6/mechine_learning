{
 "cells": [
  {
   "cell_type": "code",
   "execution_count": 1,
   "id": "53ad5bd3",
   "metadata": {
    "_cell_guid": "b1076dfc-b9ad-4769-8c92-a6c4dae69d19",
    "_uuid": "8f2839f25d086af736a60e9eeb907d3b93b6e0e5",
    "execution": {
     "iopub.execute_input": "2023-04-19T10:41:41.868051Z",
     "iopub.status.busy": "2023-04-19T10:41:41.867257Z",
     "iopub.status.idle": "2023-04-19T10:41:41.877170Z",
     "shell.execute_reply": "2023-04-19T10:41:41.875877Z"
    },
    "papermill": {
     "duration": 0.017231,
     "end_time": "2023-04-19T10:41:41.880129",
     "exception": false,
     "start_time": "2023-04-19T10:41:41.862898",
     "status": "completed"
    },
    "tags": []
   },
   "outputs": [],
   "source": [
    "import requests\n",
    "from requests.auth import HTTPBasicAuth \n",
    "\n",
    "import numpy as np\n",
    "import pandas as pd\n",
    "import json\n"
   ]
  }
 ],
 "metadata": {
  "kernelspec": {
   "display_name": "Python 3",
   "language": "python",
   "name": "python3"
  },
  "language_info": {
   "codemirror_mode": {
    "name": "ipython",
    "version": 3
   },
   "file_extension": ".py",
   "mimetype": "text/x-python",
   "name": "python",
   "nbconvert_exporter": "python",
   "pygments_lexer": "ipython3",
   "version": "3.7.12"
  },
  "papermill": {
   "default_parameters": {},
   "duration": 11.081858,
   "end_time": "2023-04-19T10:41:42.503429",
   "environment_variables": {},
   "exception": null,
   "input_path": "__notebook__.ipynb",
   "output_path": "__notebook__.ipynb",
   "parameters": {},
   "start_time": "2023-04-19T10:41:31.421571",
   "version": "2.4.0"
  }
 },
 "nbformat": 4,
 "nbformat_minor": 5
}
