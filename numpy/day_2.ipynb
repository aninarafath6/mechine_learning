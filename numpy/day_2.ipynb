{
 "cells": [
  {
   "cell_type": "code",
   "execution_count": 1,
   "metadata": {},
   "outputs": [],
   "source": [
    "# essential packages\n",
    "import numpy as np\n",
    "from py_md import get_details,cdts\n"
   ]
  },
  {
   "cell_type": "code",
   "execution_count": 2,
   "metadata": {},
   "outputs": [
    {
     "name": "stdout",
     "output_type": "stream",
     "text": [
      "array:\n",
      " ['apple' 'orange' 'grape' 'mango']\n",
      "size:  4\n",
      "Dimension:  1\n",
      "Shape:  (4,)\n",
      "Type:  <U6\n",
      "Item Size:  24\n"
     ]
    }
   ],
   "source": [
    "# string of array\n",
    "str_list = [\"apple\",\"orange\",\"grape\",\"mango\"]\n",
    "arr = np.array(str_list)\n",
    "get_details(arr)"
   ]
  },
  {
   "cell_type": "code",
   "execution_count": 3,
   "metadata": {},
   "outputs": [
    {
     "name": "stdout",
     "output_type": "stream",
     "text": [
      "array:\n",
      " [1.+0.j 2.+0.j 3.+0.j 4.+0.j]\n",
      "size:  4\n",
      "Dimension:  1\n",
      "Shape:  (4,)\n",
      "Type:  complex128\n",
      "Item Size:  16\n",
      "Imaginary: [0. 0. 0. 0.]\n",
      "Real: [1. 2. 3. 4.]\n"
     ]
    }
   ],
   "source": [
    "#complex data type \n",
    "complex_list = [1,2,3,4]\n",
    "arr = np.array(complex_list,dtype=\"complex\")\n",
    "get_details(arr,cdts)"
   ]
  },
  {
   "cell_type": "code",
   "execution_count": 4,
   "metadata": {},
   "outputs": [
    {
     "name": "stdout",
     "output_type": "stream",
     "text": [
      "array:\n",
      " [ True  True  True False  True False  True  True False False]\n",
      "size:  10\n",
      "Dimension:  1\n",
      "Shape:  (10,)\n",
      "Type:  bool\n",
      "Item Size:  1\n"
     ]
    }
   ],
   "source": [
    "#Boolean Numpy array\n",
    "arr = np.array([1,2,3,0,3,0,2,10,0,0],dtype=\"bool\")\n",
    "get_details(arr)\n"
   ]
  },
  {
   "cell_type": "code",
   "execution_count": 5,
   "metadata": {},
   "outputs": [
    {
     "name": "stdout",
     "output_type": "stream",
     "text": [
      "array:\n",
      " [0 0 0 0 0 0 0 0 0]\n",
      "size:  9\n",
      "Dimension:  1\n",
      "Shape:  (9,)\n",
      "Type:  int64\n",
      "Item Size:  8\n"
     ]
    }
   ],
   "source": [
    "#Placeholder \n",
    "arr = np.zeros(9,dtype=int)\n",
    "get_details(arr)"
   ]
  },
  {
   "cell_type": "code",
   "execution_count": 10,
   "metadata": {},
   "outputs": [
    {
     "name": "stdout",
     "output_type": "stream",
     "text": [
      "array:\n",
      " [[0 0 0]\n",
      " [0 0 0]\n",
      " [0 0 0]]\n",
      "size:  9\n",
      "Dimension:  2\n",
      "Shape:  (3, 3)\n",
      "Type:  int64\n",
      "Item Size:  8\n"
     ]
    }
   ],
   "source": [
    "arr = np.zeros((3,3),dtype=int)\n",
    "get_details(arr)"
   ]
  },
  {
   "cell_type": "code",
   "execution_count": 14,
   "metadata": {},
   "outputs": [
    {
     "name": "stdout",
     "output_type": "stream",
     "text": [
      "array:\n",
      " [[1 1 1]\n",
      " [1 1 1]]\n",
      "size:  6\n",
      "Dimension:  2\n",
      "Shape:  (2, 3)\n",
      "Type:  int64\n",
      "Item Size:  8\n"
     ]
    }
   ],
   "source": [
    "arr = np.ones((2,3),dtype=int)\n",
    "get_details(arr)"
   ]
  },
  {
   "cell_type": "code",
   "execution_count": 15,
   "metadata": {},
   "outputs": [
    {
     "name": "stdout",
     "output_type": "stream",
     "text": [
      "array:\n",
      " [[481036337249 463856468080          101 489626271855]\n",
      " [472446402657 433791696999 489626271847 481036337249]\n",
      " [         101 416611827821 442381631598          111]]\n",
      "size:  12\n",
      "Dimension:  2\n",
      "Shape:  (3, 4)\n",
      "Type:  int64\n",
      "Item Size:  8\n"
     ]
    }
   ],
   "source": [
    "# array with random values\n",
    "arr = np.empty((3,4),dtype=int)\n",
    "get_details(arr)"
   ]
  },
  {
   "cell_type": "code",
   "execution_count": 18,
   "metadata": {},
   "outputs": [
    {
     "name": "stdout",
     "output_type": "stream",
     "text": [
      "array:\n",
      " [[0.85016074 0.22052067 0.06233656]\n",
      " [0.35637099 0.67972197 0.48877999]]\n",
      "size:  6\n",
      "Dimension:  2\n",
      "Shape:  (2, 3)\n",
      "Type:  float64\n",
      "Item Size:  8\n"
     ]
    }
   ],
   "source": [
    "arr = np.random.rand(2,3)\n",
    "get_details(arr)"
   ]
  },
  {
   "cell_type": "code",
   "execution_count": 22,
   "metadata": {},
   "outputs": [
    {
     "name": "stdout",
     "output_type": "stream",
     "text": [
      "array:\n",
      " [[8 1 8]\n",
      " [5 6 1]\n",
      " [5 7 2]]\n",
      "size:  9\n",
      "Dimension:  2\n",
      "Shape:  (3, 3)\n",
      "Type:  int64\n",
      "Item Size:  8\n"
     ]
    }
   ],
   "source": [
    "arr = np.random.randint(1,9,(3,3))\n",
    "get_details(arr)"
   ]
  },
  {
   "cell_type": "code",
   "execution_count": 16,
   "metadata": {},
   "outputs": [
    {
     "name": "stdout",
     "output_type": "stream",
     "text": [
      "array:\n",
      " [[9 9 9]\n",
      " [9 9 9]]\n",
      "size:  6\n",
      "Dimension:  2\n",
      "Shape:  (2, 3)\n",
      "Type:  int64\n",
      "Item Size:  8\n"
     ]
    }
   ],
   "source": [
    "# fill with some value her its \"9\"\n",
    "arr = np.full((2,3),9)\n",
    "get_details(arr)"
   ]
  },
  {
   "cell_type": "code",
   "execution_count": 29,
   "metadata": {},
   "outputs": [
    {
     "name": "stdout",
     "output_type": "stream",
     "text": [
      "array:\n",
      " [[1 0 0 0 0]\n",
      " [0 1 0 0 0]\n",
      " [0 0 1 0 0]\n",
      " [0 0 0 1 0]\n",
      " [0 0 0 0 1]]\n",
      "size:  25\n",
      "Dimension:  2\n",
      "Shape:  (5, 5)\n",
      "Type:  int64\n",
      "Item Size:  8\n"
     ]
    }
   ],
   "source": [
    "# identity matrix\n",
    "arr =np.identity(5,dtype=int)\n",
    "get_details(arr)"
   ]
  },
  {
   "cell_type": "code",
   "execution_count": 30,
   "metadata": {},
   "outputs": [
    {
     "name": "stdout",
     "output_type": "stream",
     "text": [
      "array:\n",
      " [0 1 2 3 4 5]\n",
      "size:  6\n",
      "Dimension:  1\n",
      "Shape:  (6,)\n",
      "Type:  int64\n",
      "Item Size:  8\n"
     ]
    }
   ],
   "source": [
    "arr = np.arange(6)\n",
    "get_details(arr)"
   ]
  },
  {
   "cell_type": "code",
   "execution_count": 31,
   "metadata": {},
   "outputs": [
    {
     "name": "stdout",
     "output_type": "stream",
     "text": [
      "array:\n",
      " [10 11 12 13 14 15 16 17 18 19]\n",
      "size:  10\n",
      "Dimension:  1\n",
      "Shape:  (10,)\n",
      "Type:  int64\n",
      "Item Size:  8\n"
     ]
    }
   ],
   "source": [
    "arr = np.arange(10,20)\n",
    "get_details(arr)"
   ]
  },
  {
   "cell_type": "code",
   "execution_count": 32,
   "metadata": {},
   "outputs": [
    {
     "name": "stdout",
     "output_type": "stream",
     "text": [
      "array:\n",
      " [1 3 5 7 9]\n",
      "size:  5\n",
      "Dimension:  1\n",
      "Shape:  (5,)\n",
      "Type:  int64\n",
      "Item Size:  8\n"
     ]
    }
   ],
   "source": [
    "# a range function with step size \n",
    "arr = np.arange(1,11,2)\n",
    "# -> start -> end -> step size\n",
    "get_details(arr)"
   ]
  },
  {
   "cell_type": "code",
   "execution_count": 33,
   "metadata": {},
   "outputs": [
    {
     "name": "stdout",
     "output_type": "stream",
     "text": [
      "array:\n",
      " [ 1.   1.2  1.4  1.6  1.8  2.   2.2  2.4  2.6  2.8  3.   3.2  3.4  3.6\n",
      "  3.8  4.   4.2  4.4  4.6  4.8  5.   5.2  5.4  5.6  5.8  6.   6.2  6.4\n",
      "  6.6  6.8  7.   7.2  7.4  7.6  7.8  8.   8.2  8.4  8.6  8.8  9.   9.2\n",
      "  9.4  9.6  9.8 10.  10.2 10.4 10.6 10.8]\n",
      "size:  50\n",
      "Dimension:  1\n",
      "Shape:  (50,)\n",
      "Type:  float64\n",
      "Item Size:  8\n"
     ]
    }
   ],
   "source": [
    "# step size in floating values \n",
    "arr = np.arange(1,11,.2)\n",
    "get_details(arr)"
   ]
  }
 ],
 "metadata": {
  "kernelspec": {
   "display_name": "Python 3",
   "language": "python",
   "name": "python3"
  },
  "language_info": {
   "codemirror_mode": {
    "name": "ipython",
    "version": 3
   },
   "file_extension": ".py",
   "mimetype": "text/x-python",
   "name": "python",
   "nbconvert_exporter": "python",
   "pygments_lexer": "ipython3",
   "version": "3.11.2"
  },
  "orig_nbformat": 4
 },
 "nbformat": 4,
 "nbformat_minor": 2
}
