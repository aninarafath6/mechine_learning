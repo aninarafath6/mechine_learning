{
 "cells": [
  {
   "cell_type": "code",
   "execution_count": 1,
   "metadata": {},
   "outputs": [],
   "source": [
    "import numpy as np\n",
    "from py_md import *\n"
   ]
  },
  {
   "cell_type": "code",
   "execution_count": 2,
   "metadata": {},
   "outputs": [
    {
     "name": "stdout",
     "output_type": "stream",
     "text": [
      "array:\n",
      " [[13  1  8 12 16]\n",
      " [10 10  8  9  1]]\n",
      "size:  10\n",
      "Dimension:  2\n",
      "Shape:  (2, 5)\n",
      "Type:  int64\n",
      "Item Size:  8\n"
     ]
    }
   ],
   "source": [
    "arr = np.random.randint(1,20,(2,5))\n",
    "get_details(arr)"
   ]
  },
  {
   "cell_type": "code",
   "execution_count": 4,
   "metadata": {},
   "outputs": [
    {
     "name": "stdout",
     "output_type": "stream",
     "text": [
      "array:\n",
      " [[13  1]\n",
      " [ 8 12]\n",
      " [16 10]\n",
      " [10  8]\n",
      " [ 9  1]]\n",
      "size:  10\n",
      "Dimension:  2\n",
      "Shape:  (5, 2)\n",
      "Type:  int64\n",
      "Item Size:  8\n"
     ]
    }
   ],
   "source": [
    "arr = arr.reshape((5,2))\n",
    "get_details(arr)"
   ]
  },
  {
   "cell_type": "code",
   "execution_count": 11,
   "metadata": {},
   "outputs": [
    {
     "name": "stdout",
     "output_type": "stream",
     "text": [
      "array:\n",
      " [[[13  1  8 12 16]\n",
      "  [10 10  8  9  1]]]\n",
      "size:  10\n",
      "Dimension:  3\n",
      "Shape:  (1, 2, 5)\n",
      "Type:  int64\n",
      "Item Size:  8\n"
     ]
    }
   ],
   "source": [
    "arr = arr.reshape((1,2,5))\n",
    "get_details(arr)"
   ]
  },
  {
   "cell_type": "code",
   "execution_count": 13,
   "metadata": {},
   "outputs": [
    {
     "data": {
      "text/plain": [
       "array([1, 1, 1, 2, 2, 2, 3, 3, 3, 4, 4, 4])"
      ]
     },
     "execution_count": 13,
     "metadata": {},
     "output_type": "execute_result"
    }
   ],
   "source": [
    "# repeat an array\n",
    "arr = np.array([1,2,3,4])\n",
    "np.repeat(arr,3)"
   ]
  },
  {
   "cell_type": "code",
   "execution_count": 18,
   "metadata": {},
   "outputs": [
    {
     "name": "stdout",
     "output_type": "stream",
     "text": [
      "array:\n",
      " [[1 2 3]\n",
      " [1 2 3]]\n",
      "size:  6\n",
      "Dimension:  2\n",
      "Shape:  (2, 3)\n",
      "Type:  int64\n",
      "Item Size:  8\n"
     ]
    },
    {
     "data": {
      "text/plain": [
       "array([[1, 1, 2, 2, 3, 3],\n",
       "       [1, 1, 2, 2, 3, 3]])"
      ]
     },
     "execution_count": 18,
     "metadata": {},
     "output_type": "execute_result"
    }
   ],
   "source": [
    "arr = np.array([[1,2,3],[1,2,3]])\n",
    "get_details(arr)\n",
    "\n",
    "np.repeat(arr,2,axis=1)"
   ]
  },
  {
   "cell_type": "code",
   "execution_count": 25,
   "metadata": {},
   "outputs": [
    {
     "data": {
      "text/plain": [
       "array([[1, 2, 3],\n",
       "       [4, 5, 6],\n",
       "       [7, 8, 9],\n",
       "       [1, 2, 3]])"
      ]
     },
     "execution_count": 25,
     "metadata": {},
     "output_type": "execute_result"
    }
   ],
   "source": [
    "# vertical stacking\n",
    "v1 = np.array([1,2,3])\n",
    "v2 = np.array([4,5,6])\n",
    "\n",
    "np.vstack([v1,v2,[7,8,9]])\n"
   ]
  }
 ],
 "metadata": {
  "kernelspec": {
   "display_name": "Python 3",
   "language": "python",
   "name": "python3"
  },
  "language_info": {
   "codemirror_mode": {
    "name": "ipython",
    "version": 3
   },
   "file_extension": ".py",
   "mimetype": "text/x-python",
   "name": "python",
   "nbconvert_exporter": "python",
   "pygments_lexer": "ipython3",
   "version": "3.11.2"
  },
  "orig_nbformat": 4
 },
 "nbformat": 4,
 "nbformat_minor": 2
}
