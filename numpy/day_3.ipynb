{
 "cells": [
  {
   "cell_type": "code",
   "execution_count": 1,
   "metadata": {},
   "outputs": [],
   "source": [
    "# essential Packages\n",
    "import numpy as np\n",
    "from py_md import *\n"
   ]
  },
  {
   "cell_type": "code",
   "execution_count": 2,
   "metadata": {},
   "outputs": [
    {
     "name": "stdout",
     "output_type": "stream",
     "text": [
      "array:\n",
      " [[10 20]\n",
      " [20 40]\n",
      " [30 60]\n",
      " [40 80]]\n",
      "size:  8\n",
      "Dimension:  2\n",
      "Shape:  (4, 2)\n",
      "Type:  int64\n",
      "Item Size:  8\n"
     ]
    }
   ],
   "source": [
    "#Load data from file\n",
    "marks = np.loadtxt(\"data/data.txt\",skiprows=1,dtype=int)\n",
    "get_details(marks)"
   ]
  },
  {
   "cell_type": "code",
   "execution_count": 5,
   "metadata": {},
   "outputs": [
    {
     "name": "stdout",
     "output_type": "stream",
     "text": [
      "Mark1: [10 20 30 40]\n",
      "Mark2: [20 40 60 80]\n",
      "array:\n",
      " [[10 20 30 40]\n",
      " [20 40 60 80]]\n",
      "size:  8\n",
      "Dimension:  2\n",
      "Shape:  (2, 4)\n",
      "Type:  int64\n",
      "Item Size:  8\n"
     ]
    }
   ],
   "source": [
    "# unpacking\n",
    "# taking the transpose\n",
    "marks = np.loadtxt(\"data/data.txt\",skiprows=1,dtype=int,unpack=True)\n",
    "mark1,mark2 = marks;\n",
    "print(\"Mark1: \"+str(mark1))\n",
    "print(\"Mark2: \"+str(mark2))\n",
    "\n",
    "\n",
    "\n",
    "\n",
    "get_details(marks)\n"
   ]
  },
  {
   "cell_type": "code",
   "execution_count": 6,
   "metadata": {},
   "outputs": [],
   "source": [
    "np.save(\"sample\",np.array([1,2,3]))"
   ]
  },
  {
   "cell_type": "code",
   "execution_count": 13,
   "metadata": {},
   "outputs": [
    {
     "name": "stdout",
     "output_type": "stream",
     "text": [
      "array:\n",
      " [[0 1]\n",
      " [1 2]]\n",
      "size:  4\n",
      "Dimension:  2\n",
      "Shape:  (2, 2)\n",
      "Type:  int64\n",
      "Item Size:  8\n"
     ]
    }
   ],
   "source": [
    "arr = np.fromfunction(lambda i,j:i+j,(2,8),dtype=int)\n",
    "get_details(arr)"
   ]
  }
 ],
 "metadata": {
  "kernelspec": {
   "display_name": "Python 3",
   "language": "python",
   "name": "python3"
  },
  "language_info": {
   "codemirror_mode": {
    "name": "ipython",
    "version": 3
   },
   "file_extension": ".py",
   "mimetype": "text/x-python",
   "name": "python",
   "nbconvert_exporter": "python",
   "pygments_lexer": "ipython3",
   "version": "3.11.2"
  },
  "orig_nbformat": 4
 },
 "nbformat": 4,
 "nbformat_minor": 2
}
