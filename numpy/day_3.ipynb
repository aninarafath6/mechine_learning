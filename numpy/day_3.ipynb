{
 "cells": [
  {
   "cell_type": "code",
   "execution_count": 1,
   "metadata": {},
   "outputs": [],
   "source": [
    "# essential Packages\n",
    "import numpy as np\n",
    "from py_md import *\n"
   ]
  },
  {
   "cell_type": "code",
   "execution_count": 2,
   "metadata": {},
   "outputs": [
    {
     "name": "stdout",
     "output_type": "stream",
     "text": [
      "array:\n",
      " [[10 20]\n",
      " [20 40]\n",
      " [30 60]\n",
      " [40 80]]\n",
      "size:  8\n",
      "Dimension:  2\n",
      "Shape:  (4, 2)\n",
      "Type:  int64\n",
      "Item Size:  8\n"
     ]
    }
   ],
   "source": [
    "#Load data from file\n",
    "marks = np.loadtxt(\"data/data.txt\",skiprows=1,dtype=int)\n",
    "get_details(marks)"
   ]
  },
  {
   "cell_type": "code",
   "execution_count": 1,
   "metadata": {},
   "outputs": [
    {
     "ename": "NameError",
     "evalue": "name 'np' is not defined",
     "output_type": "error",
     "traceback": [
      "\u001b[0;31m---------------------------------------------------------------------------\u001b[0m",
      "\u001b[0;31mNameError\u001b[0m                                 Traceback (most recent call last)",
      "Cell \u001b[0;32mIn[1], line 3\u001b[0m\n\u001b[1;32m      1\u001b[0m \u001b[39m# unpacking\u001b[39;00m\n\u001b[1;32m      2\u001b[0m \u001b[39m# taking the transpose\u001b[39;00m\n\u001b[0;32m----> 3\u001b[0m marks \u001b[39m=\u001b[39m np\u001b[39m.\u001b[39mloadtxt(\u001b[39m\"\u001b[39m\u001b[39mdata/data.txt\u001b[39m\u001b[39m\"\u001b[39m,skiprows\u001b[39m=\u001b[39m\u001b[39m1\u001b[39m,dtype\u001b[39m=\u001b[39m\u001b[39mint\u001b[39m,unpack\u001b[39m=\u001b[39m\u001b[39mTrue\u001b[39;00m)\n\u001b[1;32m      4\u001b[0m mark1,mark2 \u001b[39m=\u001b[39m marks;\n\u001b[1;32m      5\u001b[0m \u001b[39mprint\u001b[39m(\u001b[39m\"\u001b[39m\u001b[39mMark1: \u001b[39m\u001b[39m\"\u001b[39m\u001b[39m+\u001b[39m\u001b[39mstr\u001b[39m(mark1))\n",
      "\u001b[0;31mNameError\u001b[0m: name 'np' is not defined"
     ]
    }
   ],
   "source": [
    "# unpacking\n",
    "# taking the transpose\n",
    "marks = np.loadtxt(\"data/data.txt\",skiprows=1,dtype=int,unpack=True)\n",
    "mark1,mark2 ,mark3= marks;\n",
    "print(\"Mark1: \"+str(mark1))\n",
    "print(\"Mark2: \"+str(mark2))\n",
    "print(\"Mark3: \"+str(mark3))\n",
    "\n",
    "\n",
    "\n",
    "\n",
    "\n",
    "get_details(marks)\n"
   ]
  },
  {
   "cell_type": "code",
   "execution_count": 6,
   "metadata": {},
   "outputs": [],
   "source": [
    "np.save(\"sample\",np.array([1,2,3]))"
   ]
  },
  {
   "cell_type": "code",
   "execution_count": 16,
   "metadata": {},
   "outputs": [
    {
     "name": "stdout",
     "output_type": "stream",
     "text": [
      "array:\n",
      " [[0 1 2 3]\n",
      " [1 2 3 4]\n",
      " [2 3 4 5]\n",
      " [3 4 5 6]]\n",
      "size:  16\n",
      "Dimension:  2\n",
      "Shape:  (4, 4)\n",
      "Type:  int64\n",
      "Item Size:  8\n"
     ]
    }
   ],
   "source": [
    "arr = np.fromfunction(lambda i,j:i+j,(4,4),dtype=int)\n",
    "get_details(arr)"
   ]
  }
 ],
 "metadata": {
  "kernelspec": {
   "display_name": "Python 3",
   "language": "python",
   "name": "python3"
  },
  "language_info": {
   "codemirror_mode": {
    "name": "ipython",
    "version": 3
   },
   "file_extension": ".py",
   "mimetype": "text/x-python",
   "name": "python",
   "nbconvert_exporter": "python",
   "pygments_lexer": "ipython3",
   "version": "3.11.2"
  },
  "orig_nbformat": 4
 },
 "nbformat": 4,
 "nbformat_minor": 2
}
