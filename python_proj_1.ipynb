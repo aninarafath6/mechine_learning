{
  "nbformat": 4,
  "nbformat_minor": 0,
  "metadata": {
    "colab": {
      "provenance": [],
      "authorship_tag": "ABX9TyOfgZIAIH/r9+Dl9Y+TTq7Q",
      "include_colab_link": true
    },
    "kernelspec": {
      "name": "python3",
      "display_name": "Python 3"
    },
    "language_info": {
      "name": "python"
    }
  },
  "cells": [
    {
      "cell_type": "markdown",
      "metadata": {
        "id": "view-in-github",
        "colab_type": "text"
      },
      "source": [
        "<a href=\"https://colab.research.google.com/github/aninarafath6/mechine_learning/blob/main/python_proj_1.ipynb\" target=\"_parent\"><img src=\"https://colab.research.google.com/assets/colab-badge.svg\" alt=\"Open In Colab\"/></a>"
      ]
    },
    {
      "cell_type": "code",
      "execution_count": 23,
      "metadata": {
        "colab": {
          "base_uri": "https://localhost:8080/",
          "height": 137
        },
        "id": "LlEv9C0iTES9",
        "outputId": "32d60f03-e622-4d9f-c120-08204391ded6"
      },
      "outputs": [
        {
          "output_type": "execute_result",
          "data": {
            "text/plain": [
              "\"Three Little pigs was sent out into the world by their mother to learn.\\n\\nThe three pigs, all decided to build a house on their own. \\nThe first pig built a house of straw because he didn't want to put in a lot of effort and was lazy. \\nThe second pig was a little less lazy than the first and he made a house of sticks. \\nThe third pig was hardworking and he put in lots of effort and built a house of brick and stone. \\nOne day a wolf came to attack them. He huffed and puffed and blew the house of straw. \\nHe then huffed and puffed and blew the house the sticks. \\nHe huffed and puffed and huffed and puffed at the house of bricks but eventually was out of breath and left. \\nMoral of the story \\nAlways work hard and it will pay off. Don’t try to take shortcuts to make things work\\n\""
            ],
            "application/vnd.google.colaboratory.intrinsic+json": {
              "type": "string"
            }
          },
          "metadata": {},
          "execution_count": 23
        }
      ],
      "source": [
        "#file \n",
        "f = open(\"story.txt\")\n",
        "data = f.read()\n",
        "data"
      ]
    },
    {
      "cell_type": "code",
      "source": [
        "def find_freq(list):\n",
        "  word_dic = {}\n",
        "  for word in list:\n",
        "    word = word.lower()\n",
        "    if word not in word_dic:\n",
        "      word_dic[word] = 1\n",
        "    else:\n",
        "      word_dic[word]+=1\n",
        "  return word_dic"
      ],
      "metadata": {
        "id": "Wsuswpb1UjGJ"
      },
      "execution_count": 14,
      "outputs": []
    },
    {
      "cell_type": "code",
      "source": [
        "word_list =  data.split()\n",
        "result = find_freq(word_list)\n"
      ],
      "metadata": {
        "id": "eYwG1sFhVuCv"
      },
      "execution_count": 21,
      "outputs": []
    },
    {
      "cell_type": "code",
      "source": [
        "def get_max_frqw(dic):\n",
        "  MAX = 1\n",
        "  word =\"\"\n",
        "  for w,f in dic.items():\n",
        "    if f> MAX :\n",
        "      MAX = f\n",
        "      word = w\n",
        "  return MAX,word\n",
        "\n",
        "\n",
        "\n",
        "\n",
        "f,w = get_max_frqw(result)\n",
        "print(\"The most repeted word is '%s'  and its %s times repeted\" % (w,f))"
      ],
      "metadata": {
        "colab": {
          "base_uri": "https://localhost:8080/"
        },
        "id": "dA_i7YV1WzIx",
        "outputId": "6d677cd5-7577-4c3a-e2c4-8e2fd5286e9b"
      },
      "execution_count": 28,
      "outputs": [
        {
          "output_type": "stream",
          "name": "stdout",
          "text": [
            "The most repeted word is 'and'  and its 14 times repeted\n"
          ]
        }
      ]
    }
  ]
}